{
 "cells": [
  {
   "cell_type": "markdown",
   "metadata": {},
   "source": [
    "# APMA E4990 Final Project: Wine Master\n",
    "\n",
    "Xiaojing Dong, Keran Li, Zhen Li, Zihan Yi  \n",
    "Webapp: http://winemaster.ml or http://winemaster.pythonanywhere.com"
   ]
  },
  {
   "cell_type": "markdown",
   "metadata": {},
   "source": [
    "## Project Goal\n",
    "\n",
    "Motivation: \n",
    "- To access information on a specific wine without typing \n",
    "- To choose the right wine without being a wine expert"
   ]
  },
  {
   "cell_type": "markdown",
   "metadata": {},
   "source": [
    "## Web Development\n",
    "\n",
    "![](./Final Presentation/Project Goal.png)\n",
    "\n",
    "- http://winemaster.ml or http://winemaster.pythonanywhere.com\n",
    "\n",
    "\n",
    "- Develop and host the Flask Webapp with PythonAnywhere\n",
    "    - Design the homepage and app page with html and css\n",
    "\n",
    "\n",
    "- Create a SQL database with the PythonAnywhere online MySQL\n",
    "    - Connect the database to our flask app, use it to store and retrieve data\n",
    "\n",
    "\n",
    "- Load the OCR, text matching and recommendation models to the webapp"
   ]
  },
  {
   "cell_type": "markdown",
   "metadata": {},
   "source": [
    "## Data Gathering and Cleansing\n",
    "\n",
    "#### 1. Database: Wine Review data from Kaggle: https://www.kaggle.com/zynicide/wine-reviews\n",
    "\n",
    "\n",
    "i. Remove countries with frequency less than 1000: remain 12 countries (using 7 languages) to reduce the cost of OCR  \n",
    "ii. Extract column *year* from column *title*  \n",
    "iii. Remove redundant column *region_2* which contains same information as *region_1* does  \n",
    "iv. Remove useless columns *taster_twitter_handle* and *taster_name*\n",
    "v. Merge duplicate rows for same wines:  \n",
    "- compute the average of non-NA \"points\"  \n",
    "- compute the average of non-NA \"price\"  \n",
    "- concate the text information of \"description\"  "
   ]
  },
  {
   "cell_type": "code",
   "execution_count": 1,
   "metadata": {},
   "outputs": [
    {
     "data": {
      "text/plain": [
       "(116759, 13)"
      ]
     },
     "execution_count": 1,
     "metadata": {},
     "output_type": "execute_result"
    }
   ],
   "source": [
    "import pandas as pd\n",
    "wine = pd.read_csv('./Data/wine_data_cleaned.csv')\n",
    "wine.shape"
   ]
  },
  {
   "cell_type": "code",
   "execution_count": 2,
   "metadata": {},
   "outputs": [
    {
     "data": {
      "text/html": [
       "<div>\n",
       "<style scoped>\n",
       "    .dataframe tbody tr th:only-of-type {\n",
       "        vertical-align: middle;\n",
       "    }\n",
       "\n",
       "    .dataframe tbody tr th {\n",
       "        vertical-align: top;\n",
       "    }\n",
       "\n",
       "    .dataframe thead th {\n",
       "        text-align: right;\n",
       "    }\n",
       "</style>\n",
       "<table border=\"1\" class=\"dataframe\">\n",
       "  <thead>\n",
       "    <tr style=\"text-align: right;\">\n",
       "      <th></th>\n",
       "      <th>index</th>\n",
       "      <th>country</th>\n",
       "      <th>province</th>\n",
       "      <th>region_1</th>\n",
       "      <th>designation</th>\n",
       "      <th>variety</th>\n",
       "      <th>winery</th>\n",
       "      <th>year</th>\n",
       "      <th>title</th>\n",
       "      <th>unique_name</th>\n",
       "      <th>description</th>\n",
       "      <th>points</th>\n",
       "      <th>price</th>\n",
       "    </tr>\n",
       "  </thead>\n",
       "  <tbody>\n",
       "    <tr>\n",
       "      <th>0</th>\n",
       "      <td>0.0</td>\n",
       "      <td>Italy</td>\n",
       "      <td>Sicily &amp; Sardinia</td>\n",
       "      <td>Etna</td>\n",
       "      <td>Vulkà Bianco</td>\n",
       "      <td>White Blend</td>\n",
       "      <td>Nicosia</td>\n",
       "      <td>2013.0</td>\n",
       "      <td>Nicosia 2013 Vulkà Bianco  (Etna)</td>\n",
       "      <td>Nicosia 2013 Vulkà Bianco  (Etna) White Blend</td>\n",
       "      <td>Aromas include tropical fruit, broom, brimston...</td>\n",
       "      <td>87.0</td>\n",
       "      <td>NaN</td>\n",
       "    </tr>\n",
       "    <tr>\n",
       "      <th>1</th>\n",
       "      <td>1.0</td>\n",
       "      <td>Portugal</td>\n",
       "      <td>Douro</td>\n",
       "      <td>NaN</td>\n",
       "      <td>Avidagos</td>\n",
       "      <td>Portuguese Red</td>\n",
       "      <td>Quinta dos Avidagos</td>\n",
       "      <td>2011.0</td>\n",
       "      <td>Quinta dos Avidagos 2011 Avidagos Red (Douro)</td>\n",
       "      <td>Quinta dos Avidagos 2011 Avidagos Red (Douro) ...</td>\n",
       "      <td>This is ripe and fruity, a wine that is smooth...</td>\n",
       "      <td>87.0</td>\n",
       "      <td>15.0</td>\n",
       "    </tr>\n",
       "    <tr>\n",
       "      <th>2</th>\n",
       "      <td>2.0</td>\n",
       "      <td>US</td>\n",
       "      <td>Oregon</td>\n",
       "      <td>Willamette Valley</td>\n",
       "      <td>NaN</td>\n",
       "      <td>Pinot Gris</td>\n",
       "      <td>Rainstorm</td>\n",
       "      <td>2013.0</td>\n",
       "      <td>Rainstorm 2013 Pinot Gris (Willamette Valley)</td>\n",
       "      <td>Rainstorm 2013 Pinot Gris (Willamette Valley) ...</td>\n",
       "      <td>Tart and snappy, the flavors of lime flesh and...</td>\n",
       "      <td>87.0</td>\n",
       "      <td>14.0</td>\n",
       "    </tr>\n",
       "    <tr>\n",
       "      <th>3</th>\n",
       "      <td>3.0</td>\n",
       "      <td>US</td>\n",
       "      <td>Michigan</td>\n",
       "      <td>Lake Michigan Shore</td>\n",
       "      <td>Reserve Late Harvest</td>\n",
       "      <td>Riesling</td>\n",
       "      <td>St. Julian</td>\n",
       "      <td>2013.0</td>\n",
       "      <td>St. Julian 2013 Reserve Late Harvest Riesling ...</td>\n",
       "      <td>St. Julian 2013 Reserve Late Harvest Riesling ...</td>\n",
       "      <td>Pineapple rind, lemon pith and orange blossom ...</td>\n",
       "      <td>87.0</td>\n",
       "      <td>13.0</td>\n",
       "    </tr>\n",
       "    <tr>\n",
       "      <th>4</th>\n",
       "      <td>4.0</td>\n",
       "      <td>US</td>\n",
       "      <td>Oregon</td>\n",
       "      <td>Willamette Valley</td>\n",
       "      <td>Vintner's Reserve Wild Child Block</td>\n",
       "      <td>Pinot Noir</td>\n",
       "      <td>Sweet Cheeks</td>\n",
       "      <td>2012.0</td>\n",
       "      <td>Sweet Cheeks 2012 Vintner's Reserve Wild Child...</td>\n",
       "      <td>Sweet Cheeks 2012 Vintner's Reserve Wild Child...</td>\n",
       "      <td>Much like the regular bottling from 2012, this...</td>\n",
       "      <td>87.0</td>\n",
       "      <td>65.0</td>\n",
       "    </tr>\n",
       "  </tbody>\n",
       "</table>\n",
       "</div>"
      ],
      "text/plain": [
       "   index   country           province             region_1  \\\n",
       "0    0.0     Italy  Sicily & Sardinia                 Etna   \n",
       "1    1.0  Portugal              Douro                  NaN   \n",
       "2    2.0        US             Oregon    Willamette Valley   \n",
       "3    3.0        US           Michigan  Lake Michigan Shore   \n",
       "4    4.0        US             Oregon    Willamette Valley   \n",
       "\n",
       "                          designation         variety               winery  \\\n",
       "0                        Vulkà Bianco     White Blend              Nicosia   \n",
       "1                            Avidagos  Portuguese Red  Quinta dos Avidagos   \n",
       "2                                 NaN      Pinot Gris            Rainstorm   \n",
       "3                Reserve Late Harvest        Riesling           St. Julian   \n",
       "4  Vintner's Reserve Wild Child Block      Pinot Noir         Sweet Cheeks   \n",
       "\n",
       "     year                                              title  \\\n",
       "0  2013.0                  Nicosia 2013 Vulkà Bianco  (Etna)   \n",
       "1  2011.0      Quinta dos Avidagos 2011 Avidagos Red (Douro)   \n",
       "2  2013.0      Rainstorm 2013 Pinot Gris (Willamette Valley)   \n",
       "3  2013.0  St. Julian 2013 Reserve Late Harvest Riesling ...   \n",
       "4  2012.0  Sweet Cheeks 2012 Vintner's Reserve Wild Child...   \n",
       "\n",
       "                                         unique_name  \\\n",
       "0      Nicosia 2013 Vulkà Bianco  (Etna) White Blend   \n",
       "1  Quinta dos Avidagos 2011 Avidagos Red (Douro) ...   \n",
       "2  Rainstorm 2013 Pinot Gris (Willamette Valley) ...   \n",
       "3  St. Julian 2013 Reserve Late Harvest Riesling ...   \n",
       "4  Sweet Cheeks 2012 Vintner's Reserve Wild Child...   \n",
       "\n",
       "                                         description  points  price  \n",
       "0  Aromas include tropical fruit, broom, brimston...    87.0    NaN  \n",
       "1  This is ripe and fruity, a wine that is smooth...    87.0   15.0  \n",
       "2  Tart and snappy, the flavors of lime flesh and...    87.0   14.0  \n",
       "3  Pineapple rind, lemon pith and orange blossom ...    87.0   13.0  \n",
       "4  Much like the regular bottling from 2012, this...    87.0   65.0  "
      ]
     },
     "execution_count": 2,
     "metadata": {},
     "output_type": "execute_result"
    }
   ],
   "source": [
    "wine.head()"
   ]
  },
  {
   "cell_type": "markdown",
   "metadata": {},
   "source": [
    "#### 2. 120 wine labels scraped from https://www.wine.com\n",
    "\n",
    "- Web scraping codes: https://github.com/zy2292/Wine-Master/blob/master/Codes/data_gathering_and_preparation/web_scraping.ipynb\n",
    "\n",
    "- Manually match the wine labels against entries in our database, store the results in *training_label.csv*\n",
    "\n",
    "- Randomly split the labels into two sets\n",
    "    - 100 training labels\n",
    "    - 20 testing labels"
   ]
  },
  {
   "cell_type": "markdown",
   "metadata": {},
   "source": [
    "## Part I. Wine Label Recognition with Tesseract OCR\n",
    "### Image preprocessing to improve OCR performance\n",
    "\n",
    "- Convert images to grayscale  \n",
    "- Text detection with Connectionist Text Proposal Network (CTPN): modify a pre-trained CTPN (https://github.com/eragonruan/text-detection-ctpn) to return the location of text boxes\n",
    "\n",
    "![](./Final Presentation/CTPN.png)\n",
    "\n",
    "We also tried bilatral filter (an edge-preserving and noise-reducing smoothing filter) and canny edge detection. However, the overall performance get worse with them, probability because of the line and word finding algorithm that the Tesseract OCR engine uses.  \n",
    "(https://github.com/tesseract-ocr/docs/blob/master/tesseracticdar2007.pdf)\n",
    "\n",
    "![](./Final Presentation/OCR.png)"
   ]
  },
  {
   "cell_type": "code",
   "execution_count": 3,
   "metadata": {},
   "outputs": [],
   "source": [
    "##################################################################\n",
    "######## Use the pre-trained CTPN which has been modified ########\n",
    "########       and store the location of text boxes       ########\n",
    "##################################################################\n",
    "# import ocrfunction \n",
    "\n",
    "# boxes = dict()\n",
    "# for i in range(1,101):\n",
    "#     Num = i\n",
    "#     img = cv2.imread('../Data/Image/train_'+ str(num) +'.jpg')\n",
    "#     boxes[i] = ocrfunction.ocr(img)\n",
    "\n",
    "# with open('../Data/text_detection_boxes.json', 'w') as fp:\n",
    "#     json.dump(boxes, fp)"
   ]
  },
  {
   "cell_type": "markdown",
   "metadata": {},
   "source": [
    "### Read training wine labels with Tesseract OCR"
   ]
  },
  {
   "cell_type": "code",
   "execution_count": 4,
   "metadata": {},
   "outputs": [],
   "source": [
    "import numpy as np\n",
    "import json\n",
    "import string\n",
    "import pytesseract\n",
    "import cv2\n",
    "from PIL import Image\n",
    "from os.path import isfile, join\n",
    "from datetime import datetime"
   ]
  },
  {
   "cell_type": "markdown",
   "metadata": {},
   "source": [
    "Load the location of text boxes"
   ]
  },
  {
   "cell_type": "code",
   "execution_count": 13,
   "metadata": {},
   "outputs": [],
   "source": [
    "with open('./Data/text_detection_boxes.json') as f:\n",
    "    boxes = json.load(f)"
   ]
  },
  {
   "cell_type": "markdown",
   "metadata": {},
   "source": [
    "For each training image, combine the OCR results extracted from different text boxes"
   ]
  },
  {
   "cell_type": "code",
   "execution_count": 15,
   "metadata": {},
   "outputs": [],
   "source": [
    "def text_ocr(boxes):\n",
    "    result = dict()\n",
    "    for i in list(range(len(boxes))):\n",
    "        num = i+1\n",
    "        img = cv2.imread('./Data/Image/train_'+ str(num) +'.jpg', 0)\n",
    "        res = ''\n",
    "        for j in list(range(len(boxes[str(i+1)]))):\n",
    "            location = list(map(int,boxes[str(i+1)][str(j+1)].split(',')))\n",
    "            min_x,min_y,max_x,max_y = location[0],location[1],location[2],location[3]\n",
    "            image = img[min_y:max_y,min_x:max_x]\n",
    "            text = pytesseract.image_to_string(image, config = '--psm 3', lang = 'eng+fra+deu+ita+spa+por+afr')\n",
    "            res = res+text\n",
    "        result[i]=res\n",
    "    return result"
   ]
  },
  {
   "cell_type": "code",
   "execution_count": 19,
   "metadata": {},
   "outputs": [],
   "source": [
    "text = text_ocr(boxes)"
   ]
  },
  {
   "cell_type": "code",
   "execution_count": 16,
   "metadata": {},
   "outputs": [
    {
     "data": {
      "text/html": [
       "<div>\n",
       "<style scoped>\n",
       "    .dataframe tbody tr th:only-of-type {\n",
       "        vertical-align: middle;\n",
       "    }\n",
       "\n",
       "    .dataframe tbody tr th {\n",
       "        vertical-align: top;\n",
       "    }\n",
       "\n",
       "    .dataframe thead th {\n",
       "        text-align: right;\n",
       "    }\n",
       "</style>\n",
       "<table border=\"1\" class=\"dataframe\">\n",
       "  <thead>\n",
       "    <tr style=\"text-align: right;\">\n",
       "      <th></th>\n",
       "      <th>0</th>\n",
       "    </tr>\n",
       "  </thead>\n",
       "  <tbody>\n",
       "    <tr>\n",
       "      <th>0</th>\n",
       "      <td>MUMM NAPABRUT: POR EST LE</td>\n",
       "    </tr>\n",
       "    <tr>\n",
       "      <th>1</th>\n",
       "      <td>poe ition,\\n*\\n\\n4 €\\nae EnBLANC</td>\n",
       "    </tr>\n",
       "    <tr>\n",
       "      <th>2</th>\n",
       "      <td>AND BO]ER\\nO\\nemo DU\\nCT OF FRANCE _”&gt; CHAMPAG...</td>\n",
       "    </tr>\n",
       "    <tr>\n",
       "      <th>3</th>\n",
       "      <td>BRUT ROSEa ER</td>\n",
       "    </tr>\n",
       "    <tr>\n",
       "      <th>4</th>\n",
       "      <td>JOSEPH PHELPSREDeWINE[APA VALLEYESTATE GROWN</td>\n",
       "    </tr>\n",
       "  </tbody>\n",
       "</table>\n",
       "</div>"
      ],
      "text/plain": [
       "                                                   0\n",
       "0                          MUMM NAPABRUT: POR EST LE\n",
       "1                   poe ition,\\n*\\n\\n4 €\\nae EnBLANC\n",
       "2  AND BO]ER\\nO\\nemo DU\\nCT OF FRANCE _”> CHAMPAG...\n",
       "3                                      BRUT ROSEa ER\n",
       "4       JOSEPH PHELPSREDeWINE[APA VALLEYESTATE GROWN"
      ]
     },
     "execution_count": 16,
     "metadata": {},
     "output_type": "execute_result"
    }
   ],
   "source": [
    "text_str = pd.DataFrame(text,index=[0]).T\n",
    "text_str.head()"
   ]
  },
  {
   "cell_type": "markdown",
   "metadata": {},
   "source": [
    "## Part II.  Text Matching using Tversky index\n",
    "\n",
    "Exploratory findings:  \n",
    "Generally, a wine label would have the following information which can uniquely match a wine in our database.  \n",
    "- province\n",
    "- region_1\n",
    "- designation\n",
    "- variety\n",
    "- winery\n",
    "- year\n",
    "\n",
    "We therefore decide to match the OCR strings using these 6 columns.\n",
    "\n",
    "### String preprocessing"
   ]
  },
  {
   "cell_type": "markdown",
   "metadata": {},
   "source": [
    "i. Remove the non-alphanumeric characters  \n",
    "ii. Remove whitespace and line breaks  \n",
    "iii. Convert all characters to uppercase"
   ]
  },
  {
   "cell_type": "code",
   "execution_count": 5,
   "metadata": {},
   "outputs": [],
   "source": [
    "def str_process(string):\n",
    "    string=string.replace('\\n','')\n",
    "    string=string.replace(' ', '')\n",
    "    string=''.join([*filter(str.isalnum, string)])\n",
    "    string=''.join(string)\n",
    "    string=string.upper()\n",
    "    return string"
   ]
  },
  {
   "cell_type": "markdown",
   "metadata": {},
   "source": [
    "OCR results"
   ]
  },
  {
   "cell_type": "code",
   "execution_count": 18,
   "metadata": {},
   "outputs": [
    {
     "data": {
      "text/html": [
       "<div>\n",
       "<style scoped>\n",
       "    .dataframe tbody tr th:only-of-type {\n",
       "        vertical-align: middle;\n",
       "    }\n",
       "\n",
       "    .dataframe tbody tr th {\n",
       "        vertical-align: top;\n",
       "    }\n",
       "\n",
       "    .dataframe thead th {\n",
       "        text-align: right;\n",
       "    }\n",
       "</style>\n",
       "<table border=\"1\" class=\"dataframe\">\n",
       "  <thead>\n",
       "    <tr style=\"text-align: right;\">\n",
       "      <th></th>\n",
       "      <th>0</th>\n",
       "    </tr>\n",
       "  </thead>\n",
       "  <tbody>\n",
       "    <tr>\n",
       "      <th>0</th>\n",
       "      <td>MUMMNAPABRUTPORESTLE</td>\n",
       "    </tr>\n",
       "    <tr>\n",
       "      <th>1</th>\n",
       "      <td>POEITION4AEENBLANC</td>\n",
       "    </tr>\n",
       "    <tr>\n",
       "      <th>2</th>\n",
       "      <td>ANDBOEROEMODUCTOFFRANCECHAMPAGNEPERRIERJOUET7E...</td>\n",
       "    </tr>\n",
       "    <tr>\n",
       "      <th>3</th>\n",
       "      <td>BRUTROSEAER</td>\n",
       "    </tr>\n",
       "    <tr>\n",
       "      <th>4</th>\n",
       "      <td>JOSEPHPHELPSREDEWINEAPAVALLEYESTATEGROWN</td>\n",
       "    </tr>\n",
       "  </tbody>\n",
       "</table>\n",
       "</div>"
      ],
      "text/plain": [
       "                                                   0\n",
       "0                               MUMMNAPABRUTPORESTLE\n",
       "1                                 POEITION4AEENBLANC\n",
       "2  ANDBOEROEMODUCTOFFRANCECHAMPAGNEPERRIERJOUET7E...\n",
       "3                                        BRUTROSEAER\n",
       "4           JOSEPHPHELPSREDEWINEAPAVALLEYESTATEGROWN"
      ]
     },
     "execution_count": 18,
     "metadata": {},
     "output_type": "execute_result"
    }
   ],
   "source": [
    "text_str[0] = text_str[0].apply(str_process)\n",
    "text_str.head()"
   ]
  },
  {
   "cell_type": "markdown",
   "metadata": {},
   "source": [
    "Columns in our database to match against"
   ]
  },
  {
   "cell_type": "code",
   "execution_count": 6,
   "metadata": {},
   "outputs": [],
   "source": [
    "wine['designation']=wine['designation'].apply(str).apply(str_process)\n",
    "wine['province']=wine['province'].apply(str).apply(str_process)\n",
    "wine['region_1']=wine['region_1'].apply(str).apply(str_process)\n",
    "wine['variety']=wine['variety'].apply(str).apply(str_process)\n",
    "wine['winery']=wine['winery'].apply(str).apply(str_process)\n",
    "wine['year']=wine['year'].fillna(0).apply(int).apply(str).apply(str_process)"
   ]
  },
  {
   "cell_type": "markdown",
   "metadata": {},
   "source": [
    "### Implement approximate string matching algorithm\n",
    "\n",
    "#### Tokenizer: n-gram\n",
    "- Treat the input string as a set of n consecutive characters. Example: \n",
    "    - \"MUMMNAPA\" \n",
    "    - {\"MUM\", \"UMM\", \"MMN\", \"MNA\", \"NAP\", \"APA\"}\n",
    "- Consider using trigram or fourgram models\n",
    "\n",
    "#### Similarity measure: Tversky index  \n",
    "- The Tversky index for sets X and Y is a similarity score in the range [0,1]\n",
    "\\begin{equation}\n",
    "S(X,Y)=\\frac{|X\\cap Y|}{|X\\cap Y|+\\alpha|X-Y|+\\beta|Y-X|}\n",
    "\\end{equation}\n",
    "where $\\alpha$ and $\\beta$ correspond to the weight of X and Y\n",
    "\n",
    "#### Use weighted average of Tversky indices as the overall similarity score\n",
    "- Motivation: Given different importance to each column \n",
    "    - For example, if the wine label has *year* specified, it should be given a larger weight in order to identify the correct wine.\n",
    "    - However, the resulting Tversky index does not vary much if we change the $\\alpha$ and $\\beta$.\n",
    "    - Consider using the weighted average of Tversky indices and set $\\alpha = \\beta = 0.5$\n",
    "\n",
    "\n",
    "- Compute 6 Tversky indices one for each column  \n",
    "- Compute the weighted average of the Tversky indices"
   ]
  },
  {
   "cell_type": "code",
   "execution_count": 7,
   "metadata": {},
   "outputs": [],
   "source": [
    "from py_stringmatching.tokenizer.qgram_tokenizer import QgramTokenizer\n",
    "from py_stringmatching.similarity_measure.tversky_index import TverskyIndex\n",
    "from multiprocessing import Pool\n",
    "from functools import partial"
   ]
  },
  {
   "cell_type": "markdown",
   "metadata": {},
   "source": [
    "First, write function to compute Tversky index for each column"
   ]
  },
  {
   "cell_type": "code",
   "execution_count": 8,
   "metadata": {},
   "outputs": [],
   "source": [
    "def get_tversky_index(proto, query, n=3, beta=0.5):\n",
    "    tversky = TverskyIndex(beta=beta)\n",
    "    qgram = QgramTokenizer(qval=n, padding=False)\n",
    "    inters = tversky.get_sim_score(qgram.tokenize(query), qgram.tokenize(proto))\n",
    "    return inters\n",
    "\n",
    "def match_col(arg, query, n=3):\n",
    "    col, beta = arg\n",
    "    table = wine[col]\n",
    "    score = table.apply(lambda x: get_tversky_index(x, query, n=n, beta=beta))\n",
    "    return score"
   ]
  },
  {
   "cell_type": "markdown",
   "metadata": {},
   "source": [
    "Parallelize the computation process of 6 Tversky indices"
   ]
  },
  {
   "cell_type": "code",
   "execution_count": 9,
   "metadata": {},
   "outputs": [],
   "source": [
    "def get_weighted_index(query, weights, n):\n",
    "    cols = ['designation', 'province','region_1','variety','winery','year']\n",
    "    betas = [0.5, 0.5, 0.5, 0.5, 0.5, 0.5]\n",
    "    args = zip(cols, betas)\n",
    "    \n",
    "    pool = Pool()\n",
    "    func = partial(match_col, query=query, n=n)\n",
    "    score = pool.map(func, args)\n",
    "    wine['scores'] = np.average(score, axis=0, weights=weights)\n",
    "    result = wine[wine['scores']==max(wine['scores'])]\n",
    "    \n",
    "    if sum(result['scores'])==0:\n",
    "        res_index=[]\n",
    "    else:\n",
    "        if result.shape[0] > 8:\n",
    "            result = result.sample(8)\n",
    "        res_index=list(result.index)\n",
    "        \n",
    "    pool.close()\n",
    "    pool.join()\n",
    "    return res_index\n",
    "\n",
    "def get_match(x, y):\n",
    "    return int(len(x.intersection(y)) != 0)\n",
    "vec_match = np.vectorize(get_match)"
   ]
  },
  {
   "cell_type": "markdown",
   "metadata": {},
   "source": [
    "For each training wine label, *training_label.csv* stores the indices that corresponds to the correct wine(s).  \n",
    "Then we could select the optimal weights in a \"supervised\" way."
   ]
  },
  {
   "cell_type": "code",
   "execution_count": 10,
   "metadata": {},
   "outputs": [
    {
     "data": {
      "text/plain": [
       "0                               {42190, 16919}\n",
       "1    {73926, 8461, 29905, 62291, 16918, 30040}\n",
       "2                                      {41747}\n",
       "3                               {30024, 84417}\n",
       "4                                      {87400}\n",
       "Name: unique_name, dtype: object"
      ]
     },
     "execution_count": 10,
     "metadata": {},
     "output_type": "execute_result"
    }
   ],
   "source": [
    "labeldf = pd.read_csv('./Data/training_label.csv')\n",
    "labeldf = labeldf.iloc[0:100,:]\n",
    "label = labeldf.iloc[:,1]\n",
    "label_set = label.apply(lambda x: set(list(map(int,x.split(',')))))\n",
    "label_set.head()"
   ]
  },
  {
   "cell_type": "markdown",
   "metadata": {},
   "source": [
    "Calculate the number of wines that are correctly matched"
   ]
  },
  {
   "cell_type": "code",
   "execution_count": 12,
   "metadata": {},
   "outputs": [],
   "source": [
    "def select_weighted_matching(text_str, label_set, weights, n):\n",
    "    result = text_str[0].apply(lambda x: get_weighted_index(x,weights,n)).apply(set)\n",
    "    match = vec_match(result, label_set)\n",
    "    return sum(match)"
   ]
  },
  {
   "cell_type": "markdown",
   "metadata": {},
   "source": [
    "### Model Selection\n",
    "\n",
    "Select the optimal weights when calculating the weighted Tversky index\n",
    "- Increase the weight of *year*  \n",
    "    - If the wine label has *year* information, it should be matched exactly to identify the correct wine.\n",
    "- Adjust the relative weights of *province* and *region_1*\n",
    "    - Information are largely overlapped.\n",
    "\n",
    "\n",
    "![](./Final Presentation/Matching.png)"
   ]
  },
  {
   "cell_type": "markdown",
   "metadata": {},
   "source": [
    "Therefore, we choose the optimal model using\n",
    "- Tesseract OCR with CTPN text detection, and\n",
    "- weighted Tversky index with \n",
    "    - weight of *year* = 1.6, \n",
    "    - weight of *region_1* = 1.3,\n",
    "    - weight of *province* = 0.1, and\n",
    "    - other weights being 1.0"
   ]
  },
  {
   "cell_type": "code",
   "execution_count": 15,
   "metadata": {},
   "outputs": [],
   "source": [
    "with open('./Data/test_text_detection_boxes.json') as f:\n",
    "    test_boxes = json.load(f)\n",
    "\n",
    "def test_text_ocr(boxes):\n",
    "    result = dict()\n",
    "    for i in list(range(len(boxes))):\n",
    "        num = i+1\n",
    "        img = cv2.imread('./Data/Image/test_'+ str(num) +'.jpg', 0)\n",
    "        res = ''\n",
    "        for j in list(range(len(boxes[str(i+1)]))):\n",
    "            location = list(map(int,boxes[str(i+1)][str(j+1)].split(',')))\n",
    "            min_x,min_y,max_x,max_y = location[0],location[1],location[2],location[3]\n",
    "            image = img[min_y:max_y,min_x:max_x]\n",
    "            text = pytesseract.image_to_string(image, config = '--psm 3', lang = 'eng+fra+deu+ita+spa+por+afr')\n",
    "            res = res+text\n",
    "        result[i]=res\n",
    "    return result"
   ]
  },
  {
   "cell_type": "code",
   "execution_count": 16,
   "metadata": {},
   "outputs": [],
   "source": [
    "test_text = test_text_ocr(test_boxes)"
   ]
  },
  {
   "cell_type": "code",
   "execution_count": 18,
   "metadata": {},
   "outputs": [
    {
     "data": {
      "text/html": [
       "<div>\n",
       "<style scoped>\n",
       "    .dataframe tbody tr th:only-of-type {\n",
       "        vertical-align: middle;\n",
       "    }\n",
       "\n",
       "    .dataframe tbody tr th {\n",
       "        vertical-align: top;\n",
       "    }\n",
       "\n",
       "    .dataframe thead th {\n",
       "        text-align: right;\n",
       "    }\n",
       "</style>\n",
       "<table border=\"1\" class=\"dataframe\">\n",
       "  <thead>\n",
       "    <tr style=\"text-align: right;\">\n",
       "      <th></th>\n",
       "      <th>0</th>\n",
       "    </tr>\n",
       "  </thead>\n",
       "  <tbody>\n",
       "    <tr>\n",
       "      <th>0</th>\n",
       "      <td>MONTEREYCOUNTYFAMILYOWNEDAAAPALOVINTAGE</td>\n",
       "    </tr>\n",
       "    <tr>\n",
       "      <th>1</th>\n",
       "      <td>EBERLEESTATEVINEYARDEB</td>\n",
       "    </tr>\n",
       "    <tr>\n",
       "      <th>2</th>\n",
       "      <td>SONOMAMOUNTAINLINNODCABERNETSAUVIGNONAEVINEYAR...</td>\n",
       "    </tr>\n",
       "    <tr>\n",
       "      <th>3</th>\n",
       "      <td>VINEYARDSARROYOGRANDEVALLEYCHARDONNAYALCOHOL13...</td>\n",
       "    </tr>\n",
       "    <tr>\n",
       "      <th>4</th>\n",
       "      <td>SLHESTATEGROWNPRODUCEDSANTALUCIAHIGHLANDSCHARD...</td>\n",
       "    </tr>\n",
       "  </tbody>\n",
       "</table>\n",
       "</div>"
      ],
      "text/plain": [
       "                                                   0\n",
       "0            MONTEREYCOUNTYFAMILYOWNEDAAAPALOVINTAGE\n",
       "1                             EBERLEESTATEVINEYARDEB\n",
       "2  SONOMAMOUNTAINLINNODCABERNETSAUVIGNONAEVINEYAR...\n",
       "3  VINEYARDSARROYOGRANDEVALLEYCHARDONNAYALCOHOL13...\n",
       "4  SLHESTATEGROWNPRODUCEDSANTALUCIAHIGHLANDSCHARD..."
      ]
     },
     "execution_count": 18,
     "metadata": {},
     "output_type": "execute_result"
    }
   ],
   "source": [
    "test_text_str = pd.DataFrame(test_text,index=[0]).T\n",
    "test_text_str[0] = test_text_str[0].apply(str_process)\n",
    "test_text_str.head()"
   ]
  },
  {
   "cell_type": "code",
   "execution_count": 19,
   "metadata": {},
   "outputs": [
    {
     "data": {
      "text/plain": [
       "100     {2188, 74836}\n",
       "101           {10241}\n",
       "102    {39864, 74840}\n",
       "103           {60107}\n",
       "104           {92049}\n",
       "Name: unique_name, dtype: object"
      ]
     },
     "execution_count": 19,
     "metadata": {},
     "output_type": "execute_result"
    }
   ],
   "source": [
    "test_labeldf = pd.read_csv('./Data/training_label.csv')\n",
    "test_labeldf = test_labeldf.iloc[100:120,:]\n",
    "test_label = test_labeldf.iloc[:,1]\n",
    "test_label_set = test_label.apply(lambda x: set(list(map(int,x.split(',')))))\n",
    "test_label_set.head()"
   ]
  },
  {
   "cell_type": "code",
   "execution_count": 20,
   "metadata": {},
   "outputs": [
    {
     "data": {
      "text/plain": [
       "9"
      ]
     },
     "execution_count": 20,
     "metadata": {},
     "output_type": "execute_result"
    }
   ],
   "source": [
    "select_weighted_matching(test_text_str, test_label_set, weights=[1, 0.1, 1.3, 1, 1, 1.6], n=4)"
   ]
  },
  {
   "cell_type": "markdown",
   "metadata": {},
   "source": [
    "The correct matching rate for 20 test labels is 9/20 = 45%."
   ]
  },
  {
   "cell_type": "markdown",
   "metadata": {},
   "source": [
    "## Part III. Content-based Recommendation\n",
    "\n",
    "- Cold start  \n",
    "- No user data\n",
    "\n",
    "Therefore, we will use wine *desciption* to do content-based recommendation.\n",
    "\n",
    "### String preprocessing\n",
    "\n",
    "i. Replace '-' with whitespace  \n",
    "ii. Remove the non-alphanumeric characters  \n",
    "iii. Remove the stop words in English  \n",
    "iv. Convert all characters to lowercase  \n",
    "v. Stem the words"
   ]
  },
  {
   "cell_type": "code",
   "execution_count": 34,
   "metadata": {},
   "outputs": [],
   "source": [
    "from sklearn.feature_extraction.text import TfidfVectorizer\n",
    "from sklearn.metrics.pairwise import linear_kernel, cosine_similarity\n",
    "from nltk.tokenize import word_tokenize\n",
    "from nltk.util import ngrams\n",
    "from itertools import chain\n",
    "import nltk.stem"
   ]
  },
  {
   "cell_type": "code",
   "execution_count": 31,
   "metadata": {},
   "outputs": [
    {
     "data": {
      "text/html": [
       "<div>\n",
       "<style scoped>\n",
       "    .dataframe tbody tr th:only-of-type {\n",
       "        vertical-align: middle;\n",
       "    }\n",
       "\n",
       "    .dataframe tbody tr th {\n",
       "        vertical-align: top;\n",
       "    }\n",
       "\n",
       "    .dataframe thead th {\n",
       "        text-align: right;\n",
       "    }\n",
       "</style>\n",
       "<table border=\"1\" class=\"dataframe\">\n",
       "  <thead>\n",
       "    <tr style=\"text-align: right;\">\n",
       "      <th></th>\n",
       "      <th>index</th>\n",
       "      <th>country</th>\n",
       "      <th>province</th>\n",
       "      <th>region_1</th>\n",
       "      <th>designation</th>\n",
       "      <th>variety</th>\n",
       "      <th>winery</th>\n",
       "      <th>year</th>\n",
       "      <th>title</th>\n",
       "      <th>unique_name</th>\n",
       "      <th>description</th>\n",
       "      <th>points</th>\n",
       "      <th>price</th>\n",
       "    </tr>\n",
       "  </thead>\n",
       "  <tbody>\n",
       "    <tr>\n",
       "      <th>0</th>\n",
       "      <td>0.0</td>\n",
       "      <td>Italy</td>\n",
       "      <td>Sicily &amp; Sardinia</td>\n",
       "      <td>Etna</td>\n",
       "      <td>Vulkà Bianco</td>\n",
       "      <td>White Blend</td>\n",
       "      <td>Nicosia</td>\n",
       "      <td>2013.0</td>\n",
       "      <td>Nicosia 2013 Vulkà Bianco  (Etna)</td>\n",
       "      <td>Nicosia 2013 Vulkà Bianco  (Etna) White Blend</td>\n",
       "      <td>Aromas include tropical fruit, broom, brimston...</td>\n",
       "      <td>87.0</td>\n",
       "      <td>NaN</td>\n",
       "    </tr>\n",
       "    <tr>\n",
       "      <th>1</th>\n",
       "      <td>1.0</td>\n",
       "      <td>Portugal</td>\n",
       "      <td>Douro</td>\n",
       "      <td>NaN</td>\n",
       "      <td>Avidagos</td>\n",
       "      <td>Portuguese Red</td>\n",
       "      <td>Quinta dos Avidagos</td>\n",
       "      <td>2011.0</td>\n",
       "      <td>Quinta dos Avidagos 2011 Avidagos Red (Douro)</td>\n",
       "      <td>Quinta dos Avidagos 2011 Avidagos Red (Douro) ...</td>\n",
       "      <td>This is ripe and fruity, a wine that is smooth...</td>\n",
       "      <td>87.0</td>\n",
       "      <td>15.0</td>\n",
       "    </tr>\n",
       "    <tr>\n",
       "      <th>2</th>\n",
       "      <td>2.0</td>\n",
       "      <td>US</td>\n",
       "      <td>Oregon</td>\n",
       "      <td>Willamette Valley</td>\n",
       "      <td>NaN</td>\n",
       "      <td>Pinot Gris</td>\n",
       "      <td>Rainstorm</td>\n",
       "      <td>2013.0</td>\n",
       "      <td>Rainstorm 2013 Pinot Gris (Willamette Valley)</td>\n",
       "      <td>Rainstorm 2013 Pinot Gris (Willamette Valley) ...</td>\n",
       "      <td>Tart and snappy, the flavors of lime flesh and...</td>\n",
       "      <td>87.0</td>\n",
       "      <td>14.0</td>\n",
       "    </tr>\n",
       "    <tr>\n",
       "      <th>3</th>\n",
       "      <td>3.0</td>\n",
       "      <td>US</td>\n",
       "      <td>Michigan</td>\n",
       "      <td>Lake Michigan Shore</td>\n",
       "      <td>Reserve Late Harvest</td>\n",
       "      <td>Riesling</td>\n",
       "      <td>St. Julian</td>\n",
       "      <td>2013.0</td>\n",
       "      <td>St. Julian 2013 Reserve Late Harvest Riesling ...</td>\n",
       "      <td>St. Julian 2013 Reserve Late Harvest Riesling ...</td>\n",
       "      <td>Pineapple rind, lemon pith and orange blossom ...</td>\n",
       "      <td>87.0</td>\n",
       "      <td>13.0</td>\n",
       "    </tr>\n",
       "    <tr>\n",
       "      <th>4</th>\n",
       "      <td>4.0</td>\n",
       "      <td>US</td>\n",
       "      <td>Oregon</td>\n",
       "      <td>Willamette Valley</td>\n",
       "      <td>Vintner's Reserve Wild Child Block</td>\n",
       "      <td>Pinot Noir</td>\n",
       "      <td>Sweet Cheeks</td>\n",
       "      <td>2012.0</td>\n",
       "      <td>Sweet Cheeks 2012 Vintner's Reserve Wild Child...</td>\n",
       "      <td>Sweet Cheeks 2012 Vintner's Reserve Wild Child...</td>\n",
       "      <td>Much like the regular bottling from 2012, this...</td>\n",
       "      <td>87.0</td>\n",
       "      <td>65.0</td>\n",
       "    </tr>\n",
       "  </tbody>\n",
       "</table>\n",
       "</div>"
      ],
      "text/plain": [
       "   index   country           province             region_1  \\\n",
       "0    0.0     Italy  Sicily & Sardinia                 Etna   \n",
       "1    1.0  Portugal              Douro                  NaN   \n",
       "2    2.0        US             Oregon    Willamette Valley   \n",
       "3    3.0        US           Michigan  Lake Michigan Shore   \n",
       "4    4.0        US             Oregon    Willamette Valley   \n",
       "\n",
       "                          designation         variety               winery  \\\n",
       "0                        Vulkà Bianco     White Blend              Nicosia   \n",
       "1                            Avidagos  Portuguese Red  Quinta dos Avidagos   \n",
       "2                                 NaN      Pinot Gris            Rainstorm   \n",
       "3                Reserve Late Harvest        Riesling           St. Julian   \n",
       "4  Vintner's Reserve Wild Child Block      Pinot Noir         Sweet Cheeks   \n",
       "\n",
       "     year                                              title  \\\n",
       "0  2013.0                  Nicosia 2013 Vulkà Bianco  (Etna)   \n",
       "1  2011.0      Quinta dos Avidagos 2011 Avidagos Red (Douro)   \n",
       "2  2013.0      Rainstorm 2013 Pinot Gris (Willamette Valley)   \n",
       "3  2013.0  St. Julian 2013 Reserve Late Harvest Riesling ...   \n",
       "4  2012.0  Sweet Cheeks 2012 Vintner's Reserve Wild Child...   \n",
       "\n",
       "                                         unique_name  \\\n",
       "0      Nicosia 2013 Vulkà Bianco  (Etna) White Blend   \n",
       "1  Quinta dos Avidagos 2011 Avidagos Red (Douro) ...   \n",
       "2  Rainstorm 2013 Pinot Gris (Willamette Valley) ...   \n",
       "3  St. Julian 2013 Reserve Late Harvest Riesling ...   \n",
       "4  Sweet Cheeks 2012 Vintner's Reserve Wild Child...   \n",
       "\n",
       "                                         description  points  price  \n",
       "0  Aromas include tropical fruit, broom, brimston...    87.0    NaN  \n",
       "1  This is ripe and fruity, a wine that is smooth...    87.0   15.0  \n",
       "2  Tart and snappy, the flavors of lime flesh and...    87.0   14.0  \n",
       "3  Pineapple rind, lemon pith and orange blossom ...    87.0   13.0  \n",
       "4  Much like the regular bottling from 2012, this...    87.0   65.0  "
      ]
     },
     "execution_count": 31,
     "metadata": {},
     "output_type": "execute_result"
    }
   ],
   "source": [
    "wine = pd.read_csv('../Data/wine_data_cleaned.csv')\n",
    "wine.head()"
   ]
  },
  {
   "cell_type": "code",
   "execution_count": 29,
   "metadata": {},
   "outputs": [],
   "source": [
    "stemmer = nltk.stem.SnowballStemmer('english')\n",
    "\n",
    "def stem_tokens(tokens, stemmer):\n",
    "    stemmed = map(lambda x: stemmer.stem(x), tokens)\n",
    "    return stemmed\n",
    "\n",
    "def tokenize(text):\n",
    "    lowers = text.lower()\n",
    "    lowers=lowers.replace(\"-\",\" \")\n",
    "    no_punctuation = lowers.translate(str.maketrans('','',string.punctuation))\n",
    "    tokens = nltk.word_tokenize(no_punctuation)\n",
    "    stems = stem_tokens(tokens, stemmer)\n",
    "    return stems"
   ]
  },
  {
   "cell_type": "markdown",
   "metadata": {},
   "source": [
    "### Calculate TF-IDF  and cosine similarity\n",
    "\n",
    "#### Unigram TF-IDF\n",
    "$$tf(t,d)=0.5+0.5\\cdot \\frac{f_{t,d}}{\\max\\{f_{t',d}:t'\\in d\\}},\\  idf(t,D)=\\log \\frac{N}{|\\{d\\in D: t\\in d\\}|}$$   \n",
    "$$tfidf(t,d,D)=tf(t,d)\\cdot idf(t,D)$$  \n",
    "- Indicate the importance of word in the wine description\n",
    "- Unigram: single words (instead of characters as we did in text matching)  \n",
    "    - We have also tried unigram and bigram models, but unigram model gives a more reasonalbe result.  \n",
    "    - For example, the dictionary of unigram and bigram model contains both \"Pinot\" and \"Pinot Noir\", which produces worse performance for \"Pinot Gris\".  \n",
    "\n",
    "- Choose the threshold for document frequency to select an appropriate dictionary size\n",
    "    - Remove words with documnent frequency lower than 0.025 or higher than 0.95"
   ]
  },
  {
   "cell_type": "code",
   "execution_count": 32,
   "metadata": {},
   "outputs": [
    {
     "name": "stdout",
     "output_type": "stream",
     "text": [
      "(116759, 189)\n"
     ]
    }
   ],
   "source": [
    "tfidf = TfidfVectorizer(tokenizer=tokenize, stop_words='english',\n",
    "                        ngram_range=(1,1), max_df=0.95, min_df=0.025,\n",
    "                        use_idf=True, binary=False, norm=None)\n",
    "tfidf_matrix = tfidf.fit_transform(wine['description'])\n",
    "print(tfidf_matrix.shape)"
   ]
  },
  {
   "cell_type": "markdown",
   "metadata": {},
   "source": [
    "Get a sparse TF-IDF matrix of dimension 116759×189, that is, the word dictionary has 189 words (stems)."
   ]
  },
  {
   "cell_type": "code",
   "execution_count": 33,
   "metadata": {},
   "outputs": [
    {
     "name": "stdout",
     "output_type": "stream",
     "text": [
      "['accent', 'acid', 'add', 'age', 'alcohol', 'almond', 'alongsid', 'appl', 'apricot', 'aroma', 'aromat', 'attract', 'bake', 'balanc', 'barrel', 'beauti', 'berri', 'best', 'big', 'bit', 'bitter', 'black', 'blackberri', 'blend', 'blueberri', 'bodi', 'bottl', 'bright', 'bring', 'cabernet', 'candi', 'cassi', 'charact', 'chardonnay', 'cherri', 'chocol', 'cinnamon', 'citrus', 'clean', 'close', 'clove', 'coffe', 'cola', 'color', 'come', 'complex', 'concentr', 'core', 'creami', 'crisp', 'crush', 'currant', 'dark', 'delic', 'delici', 'deliv', 'dens', 'domin', 'dri', 'drink', 'earth', 'earthi', 'easi', 'edg', 'eleg', 'end', 'enjoy', 'feel', 'fine', 'finish', 'firm', 'flavor', 'floral', 'flower', 'follow', 'fresh', 'fruit', 'fruiti', 'generous', 'good', 'grape', 'grapefruit', 'great', 'green', 'herb', 'herbal', 'high', 'hint', 'honey', 'impress', 'intens', 'juici', 'just', 'layer', 'lead', 'leather', 'lemon', 'licoric', 'light', 'like', 'lime', 'linger', 'littl', 'live', 'long', 'make', 'matur', 'medium', 'melon', 'merlot', 'miner', 'mix', 'mouth', 'mouthfeel', 'need', 'new', 'nice', 'noir', 'nose', 'note', 'oak', 'offer', 'open', 'orang', 'palat', 'peach', 'pear', 'pepper', 'perfum', 'pineappl', 'pinot', 'plenti', 'plum', 'power', 'produc', 'raspberri', 'readi', 'red', 'refresh', 'rich', 'ripe', 'round', 'sauvignon', 'savori', 'scent', 'simpl', 'skin', 'slight', 'smoke', 'smoki', 'smooth', 'soft', 'solid', 'spice', 'spici', 'stone', 'strawberri', 'strong', 'structur', 'style', 'suggest', 'sweet', 'syrah', 'tangi', 'tannic', 'tannin', 'tart', 'tast', 'textur', 'tight', 'time', 'toast', 'toasti', 'tobacco', 'tone', 'touch', 'tropic', 'vanilla', 'veri', 'vineyard', 'vintag', 'weight', 'white', 'wild', 'wine', 'wood', 'year', 'yellow', 'young']\n"
     ]
    }
   ],
   "source": [
    "print(tfidf.get_feature_names())"
   ]
  },
  {
   "cell_type": "markdown",
   "metadata": {},
   "source": [
    "Given a specific wine, calculate the cosine similarity scores for all the other wines.  \n",
    "For example, below is the recommendation results for wine of index 77662."
   ]
  },
  {
   "cell_type": "code",
   "execution_count": 38,
   "metadata": {},
   "outputs": [],
   "source": [
    "def get_recommendations(train, query):\n",
    "    cos_query=cosine_similarity(train,query)\n",
    "    cos_query=list(chain(*cos_query))\n",
    "    sort_dist=np.argsort(cos_query)[::-1]\n",
    "    return sort_dist[1:6].tolist()"
   ]
  },
  {
   "cell_type": "code",
   "execution_count": 39,
   "metadata": {},
   "outputs": [
    {
     "data": {
      "text/plain": [
       "[[99224, 15491, 45437, 64740, 61945]]"
      ]
     },
     "execution_count": 39,
     "metadata": {},
     "output_type": "execute_result"
    }
   ],
   "source": [
    "recommend = [*map(lambda x: get_recommendations(tfidf_matrix,x),tfidf_matrix[77662])]\n",
    "recommend"
   ]
  },
  {
   "cell_type": "markdown",
   "metadata": {},
   "source": [
    "Compare the wine descriptions"
   ]
  },
  {
   "cell_type": "code",
   "execution_count": 37,
   "metadata": {},
   "outputs": [
    {
     "data": {
      "text/plain": [
       "\"There's plenty of ripe pie-filling fruit flavor in this dry wine. Cherries, blackberries, boysenberries and all sorts of other red fruits and berries mingle with melted chocolate, licorice and peppery spice. Turns a bit hot on the finish.\""
      ]
     },
     "execution_count": 37,
     "metadata": {},
     "output_type": "execute_result"
    }
   ],
   "source": [
    "wine.loc[77662,'description']"
   ]
  },
  {
   "cell_type": "code",
   "execution_count": 64,
   "metadata": {},
   "outputs": [
    {
     "data": {
      "text/plain": [
       "\"This 2013 keeps up the full body and ripe fruit of previous releases, with lush texture and saturated chocolate and blackberry flavors. It's a dry red, however, with no detectable sweetness but plenty of tannin and satisfaction.\""
      ]
     },
     "execution_count": 64,
     "metadata": {},
     "output_type": "execute_result"
    }
   ],
   "source": [
    "wine.loc[99224,'description']"
   ]
  },
  {
   "cell_type": "code",
   "execution_count": 65,
   "metadata": {},
   "outputs": [
    {
     "data": {
      "text/plain": [
       "\"Spice, licorice and herbal notes complement red-fruit aromas, while the palate offers plenty of structure and tannic grab. There's an avalanche of blackberry, cassis, fig, chocolate and herbal flavors to process, while the finish is rich and rewarding before breaking up in bits.\""
      ]
     },
     "execution_count": 65,
     "metadata": {},
     "output_type": "execute_result"
    }
   ],
   "source": [
    "wine.loc[15491,'description']"
   ]
  },
  {
   "cell_type": "code",
   "execution_count": 66,
   "metadata": {},
   "outputs": [
    {
     "data": {
      "text/plain": [
       "\"This superrich Zin has extracted, luxurious fruit. It's ripe in blackberry and cherry jam, milk chocolate, peppery spice and anise flavors, with an overripe note of Port. Drink now.\""
      ]
     },
     "execution_count": 66,
     "metadata": {},
     "output_type": "execute_result"
    }
   ],
   "source": [
    "wine.loc[45437,'description']"
   ]
  },
  {
   "cell_type": "code",
   "execution_count": 67,
   "metadata": {},
   "outputs": [
    {
     "data": {
      "text/plain": [
       "\"Full, forward and loaded with ripe strawberry and cherry flavors, this immediately likeable wine offers plenty of fruit and spice. It's almost chunky it's so big, with a lick of chocolate highlighting the finish.\""
      ]
     },
     "execution_count": 67,
     "metadata": {},
     "output_type": "execute_result"
    }
   ],
   "source": [
    "wine.loc[64740,'description']"
   ]
  },
  {
   "cell_type": "code",
   "execution_count": 68,
   "metadata": {},
   "outputs": [
    {
     "data": {
      "text/plain": [
       "\"Stainless steel fermentation has yielded a yeasty, beery wine. There's plenty of fruit, a bit too reminiscent of canned peaches, and a finish that seems constricted and short. Residual sugar is right around 2%.\""
      ]
     },
     "execution_count": 68,
     "metadata": {},
     "output_type": "execute_result"
    }
   ],
   "source": [
    "wine.loc[61945,'description']"
   ]
  },
  {
   "cell_type": "code",
   "execution_count": null,
   "metadata": {},
   "outputs": [],
   "source": []
  }
 ],
 "metadata": {
  "kernelspec": {
   "display_name": "Python 3",
   "language": "python",
   "name": "python3"
  },
  "language_info": {
   "codemirror_mode": {
    "name": "ipython",
    "version": 3
   },
   "file_extension": ".py",
   "mimetype": "text/x-python",
   "name": "python",
   "nbconvert_exporter": "python",
   "pygments_lexer": "ipython3",
   "version": "3.6.4"
  }
 },
 "nbformat": 4,
 "nbformat_minor": 2
}
