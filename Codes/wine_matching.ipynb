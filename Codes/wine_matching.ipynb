{
 "cells": [
  {
   "cell_type": "code",
   "execution_count": 1,
   "metadata": {},
   "outputs": [],
   "source": [
    "import numpy as np\n",
    "import pandas as pd\n",
    "import matplotlib.pyplot as plt\n",
    "import pytesseract\n",
    "from PIL import Image\n",
    "from os import listdir\n",
    "from os.path import isfile, join\n",
    "import cv2\n",
    "import PIL.ImageOps\n",
    "\n",
    "from sklearn.feature_extraction.text import TfidfVectorizer\n",
    "from sklearn.metrics.pairwise import linear_kernel, cosine_similarity\n",
    "import nltk.stem\n",
    "from nltk.tokenize import word_tokenize\n",
    "from datetime import datetime\n",
    "import string\n",
    "from nltk.util import ngrams\n",
    "from sklearn.feature_extraction.text import CountVectorizer"
   ]
  },
  {
   "cell_type": "code",
   "execution_count": 2,
   "metadata": {},
   "outputs": [],
   "source": [
    "text_unstructure={}\n",
    "for i in range(1,101):\n",
    "    Num = i\n",
    "    imageOriginal = Image.open('./Data/Image/train_'+ str(Num) +'.jpg').convert(\"L\")\n",
    "    image = np.asarray(imageOriginal)\n",
    "\n",
    "#    bilateral = cv2.bilateralFilter(image, d=10, sigmaColor=10*2, sigmaSpace=10/2)\n",
    "#    edges = cv2.Canny(bilateral,100,150)\n",
    "\n",
    "    text = pytesseract.image_to_string(image, lang = 'eng+fra')\n",
    "    text_unstructure[i] = text"
   ]
  },
  {
   "cell_type": "code",
   "execution_count": 3,
   "metadata": {},
   "outputs": [
    {
     "data": {
      "text/plain": [
       "{1: 'MUMM NAPA\\n\\n= Bo 9 Jas Bae ea 6 oe maa Bad Bk',\n",
       " 2: 'ove TRADITION,\\në\\n€\\n<e\\n\\nMUMM NAPA\\n\\nBLANC DE BLANCS',\n",
       " 3: '',\n",
       " 4: 'MUMM NAPA\\n\\nBRUT ROSE',\n",
       " 5: 'JOSEPH PHELPS\\n\\nINSIGNIA\\n\\nNAPA VALLEY\\n\\nESTATE GROWN\\n\\nRED° WINE\\n\\n2012',\n",
       " 6: 'Aout Eden\\nUli\\n\\nAude coli fun guyped fa deleted,\\nauthentic cline, tis wine, guun, fermented\\nantl billed 2000 feet ubove the fleor of the Santo\\nClara Villey, on apeak of the Chained Ch, tn the\\nSanta Cu AMounluins\\n\\nSET SAND Ly,\\n\\nä &« 17° ¢ CHARDONNAY\\nÉ < 2012\\n\\nby,\\n\\nNy\\n“Asm sn ESTATE BOTTLED',\n",
       " 7: 'fore KNIGHT',\n",
       " 8: 'KAPCSANDY FAMILY WINERY\\n\\n \\n\\n \\n\\n \\n\\n \\n\\nCABERNET SAUVIGNON - GRAND VIN\\n\\nŒ\\nSoo Line Leopard\\n\\nYOUNTVILLE APPELLATION - NAPA VALLEY\\n\\n \\n\\n \\n\\n \\n\\n \\n\\n \\n\\n \\n\\nALC. Wut BY VOL. PRODUCE OF U.S.A',\n",
       " 9: 'es ce a =\\n\\n  \\n     \\n \\n     \\n   \\n \\n\\nCHAMISAL\\n\\n“= VINEYARDS =\\n\\nE-D-N-A- V-A-E-E E-Y\\nLied ods\\n\\nww\\n\\n    \\n\\nx y\\n\\nAO TROKBYVOL:',\n",
       " 10: 'COL\\n\\nNAPA YALLEY\\n\\n2014 CHARDONNAY\\n\\n \\n\\nANTINORI FAMILY ESTATE',\n",
       " 11: 'ALC. 14.5% BY VOL\\n\\nSTAG’S LEAP WINE CELLARS\\n\\nCASK 23\\n\\nCabernet Sauvignon\\n\\nEstate Napa Valley\\n\\ndur\\n\\nWARREN WINIARSKI, FOUNDER',\n",
       " 12: 'ALEXANDER VALLEY\\nCABERNET SAUVIGNON',\n",
       " 13: '',\n",
       " 14: 'icy\\n\\nCONN CREEK\\n\\nANTHOLOGY\\n\\ni\\n\\n \\n\\n \\n\\nThe Whole tt Greater tps\\nthe hom of the Bils\\n\\nNAPA VALLEY\\nCABERNET SAUVIGNON\\n\\nALC. 14.5% BY VOL.',\n",
       " 15: 'OAKVILLE ~ NAPA VALLEY\\n\\n \\n\\n \\n\\n \\n\\nPRODUCED AND BOTTLED BY GROTH VINEYARDS .c&,\\nZIOML AND WINERY, OAKVILLE, CALIFORNIA #2',\n",
       " 16: 'Pinot Noir\\n\\nGap’s Crown Vineyard\\nSonoma Coast',\n",
       " 17: '',\n",
       " 18: '',\n",
       " 19: \"KENDALL-JACKSON\\n\\nL' 4\\n\\nVINTNER’S RESERVE\\n\\n \\n\\nCHARDONNAY\\nCALIFORNIA\\n\\na\\n\\nJACKSON ESTATE”\\nFamily Owned Since 1982\",\n",
       " 20: '2014\\n\\nJ\\n\\n \\n\\nCABERNET SAUVIGNON\\n\\nPROPRIETOR & VINTNER JOSEPH CARR',\n",
       " 21: '',\n",
       " 22: 'STAG’S LEAP WINE CELLARS\\n\\nARTEMIS\\n\\nCabernet Sauvignon\\n\\n| Napa Valley\\n\\nESTABLISHED 1970',\n",
       " 23: 'SONOMA COAST\\n\\nPINOT NOIR',\n",
       " 24: '2012\\n\\nSYCAMOR\\n\\n \\n\\nT\\n\\n \\n\\n \\n\\n \\n\\n \\n\\nVINEYARD\\n\\nCABERNET SAUVIGNON\\nRUTHERFORD, NAPA VALLEY\\n\\n+\\n\\nPRODUCED AND BOTTLED BY FREEMARK ABBEY WINERY, OAKVILLE, CALIFORNIA, USA\\nAlcohol 14.5 by Volume',\n",
       " 25: 'GRAND RESERVE\\n\\n= Clas\\n\\nCHARDONNAY\\nMONTEREY COUNTY 53%, SANTA BARBARA COUNTY 47%\\n\\n100% Jackson Estates Grown Hand Selected from our Vineyard Estates',\n",
       " 26: 'ECRET/1IS PATIEN\\n\\n\\\\BERNET\\nUVIGNO',\n",
       " 27: '‘Au\\nBon\\nClimat\\n\\n \\n\\nSanta Maria Valley\\nESTATE BOTTLED PINOT NOIR\\n“Knox Alexander”\\n\\n \\n\\nProduced and bottled by Jim Clendenen, Mind Behind, Santa Maria, California,\\nfrom grapes grown at Bien Nacido and Le Bon Climat Vineyards. Alcohol 13.5% by volume.',\n",
       " 28: 'aT DIEM?\\n\\n \\n\\n \\n\\nANDERSOIN VALLEY',\n",
       " 29: 'UNCAGED\\nPROPRIETARY RED BLEND\\n* NORTH COAST',\n",
       " 30: 'FIOA AG SEL DIV\\n\\nSTA. BITA HILLS/| WW)} Nbre HILL\\n\\n   \\n\\n$0. CHARDONNAY\\n\\nLIQUID FARM',\n",
       " 31: 'WINEMAKING\\n\\n150\\n\\nTRADITION\\n\\n \\n\\nYEARS',\n",
       " 32: 'CHATEAU\\nMONTELENA\\n\\nESTABLISHED 1882\\n\\nChardonnay\\n\\nNAPA VALLEY',\n",
       " 33: 'ALC. 13.9% BY VOL. 7739-1\\n\\nCARNIVOR\\n\\nCALIFORNIA',\n",
       " 34: 'RED-CAR\\n\\n \\n\\nROSE OF PINOT NOIR\\nSONOMA COAST 12.9% atc. BY VoL',\n",
       " 35: 'ESTATE GROWN\\n\\nJOSEPH PHELPS\\nCobanel Seurignon\\n\\nNAPA VALLEY\\n\\n2014.\\n\\n \\n\\n \\n\\n \\n\\nESTATE GROWN, PRODUCED & BOTTLED BY JOSEPH PHELPS VINEYARDS, ST. HELENA, cA',\n",
       " 36: 'JOSEPH CARR\\n\\n   \\n\\nVINTAGE\\n\\nJOSH CELLARS',\n",
       " 37: 'APOTHIC.\\n\\nA Vy\\n\\n2 2 ;\\n(077727727777',\n",
       " 38: 'CHATEAU\\nMONTELENA\\n\\nESTABLISHED 1882\\n\\nCABERNET SAUVIGNON\\n\\nCALISTOGA * NAPA VALLEY\\n\\n \\n\\n \\n\\nPr ALC 13.9% BY VOL',\n",
       " 39: \"=:\\n\\nSAN FRANCISCO\\n\\nMISSION\\n\\nLEESE-FITCH\\n\\nCALIFORNIA\\n\\nCABERNET SAUVIGNON\\n\\nACROSS THE PLAZA FROM THE\\nLEESE-FITCH ADOBE IS THE\\nMISSION SAN FRANCISCO\\nSOLANO. BUILT IN 1823, IT\\nIS ONE OF THE OLDEST AND\\nMOST HISTORIC BUILDINGS\\nIN SONOMA, THE FINAL\\nSTOP OF EL CAMINO REAL,\\n“THE KING'’S HIGHWAY”\\nTHAT CONNECTS: ALE 21.0F\\nCALIFORNIA’S ERANCISCAN\\nMISSIONS:\",\n",
       " 40: 'ae PUN Se ae te\\nDRE TT ET EE\\n(C0\\n\\nDT IN ENS\\n\\n3 tan)\\nGuess eee\\n\\nLe\\nx (NAPA VALLEY +2015) 100\\nne AG\\nCABERNET SAUVIGNON %',\n",
       " 41: 'STAG’S LEAP WINE CELLARS\\n\\nKARIA\\n\\nChardonnay\\nNapa Valley',\n",
       " 42: 'FROGS LEA\\n\\n  \\n    \\n    \\n \\n\\n \\n\\na\\n\\n  \\n\\nSAUVIGNON BLANC\\nRUTHERFORD\\nNAPA VALLEY',\n",
       " 43: '',\n",
       " 44: '',\n",
       " 45: 'PINOT NOIR\\n2074\\n\\n=\\nfe}\\n=\\n>\\nfo\\nPS\\n5\\nBh\\nô\\n=\\n=<\\n\\nANDERSON VALLEY',\n",
       " 46: 'TRILOGY\\n\\nRED WINE\\nNAPA VALLEY\\n\\n \\n\\nBY\\n\\nFLORA SPRINGS\\n\\nTHE KOMES & GARVEY FAMILY',\n",
       " 47: 'LA CREMA\\nA\\n\\nSONOMA COAST\\n\\nCHARDONNAY',\n",
       " 48: 'STAG’S LEAP WINE CELLARS\\n\\nFAY\\n\\nCabernet Sauvignon\\n\\nNapa Valley\\n\\nESTABLISHED 1970\\nESTATE GROWN',\n",
       " 49: 'MONTE ROSSO\\nVINEYARD',\n",
       " 50: 'At\\n\\nMoss Roxx\\n\\noe\\nRESERVE ZINFANDEL',\n",
       " 51: 'ANCIEN KS\\n\\nRENEGADE\\n\\nPASO ROBLES, CALIFORNIA\\nSANTA MARGARITA RANCH',\n",
       " 52: '2018\\n\\nUO\\n\\n© : Ye APA VALLEY\\nALC. 14.6% BY VOL.',\n",
       " 53: 'FRET\\nBROTHERS.\\n\\nSONOMA RESERVE\\n\\nDRY CREEK VAELEY\\n\\nSONOMA COUNTY\\n2015\\n\\n \\n\\n \\n\\nALC. 14.7% BY VOL. 6550-9',\n",
       " 54: '2013\\n\\nCABERNET SAUVIGNON\\n\\nALEXANDER VALLEY,\\nSONOMA COUNTY',\n",
       " 55: 'SYRAH\\n\\nTous les Jours\\nSANTA YNEZ VALLEY\\n\\nANDREW MURRAY VINEYARDS',\n",
       " 56: 'DUCKHORN\\n\\n   \\n\\nNap Ville\\nSAUVIGNON BLANC\\n2016',\n",
       " 57: 'VINTAGE 2016\\n\\nEIOMI\\n\\nPINOT NOIR\\n\\nMONTEREY County « SANTA BARBARA COUNTY + SONOMA COUNTY\\n\\n    \\n\\nva\\n\\nx between — our Pinot Noir vineyards lay the foundation for\\na\\n\\n \\n \\n      \\n \\n   \\n\\n \\n\\n \\n\\npe rome fo 4 he Mill, Ly hg o. “lant Barbare and. the h ”\\nMontere 7\\none dynamic blend. With «a soft hand in the cellar and gentle winemaking\\nlechnigues, the wine evolves inlo an elegant À\\n\\nbalance of spice and fruit, weight and restraint.\\n\\nGY 0',\n",
       " 58: 'S CHUG\\n\\n250 eS)\\n\\nSONOMA COAST\\n\\nCHARDONNAY',\n",
       " 59: 'NAPA VALLEY ~ CABERNET SAUVIGNON\\n\\nPRODUCED & BOTTLED\\nBY CAYMUS VINEYARDS\\nRUTHERFORD, CALIFORNIA\\n\\nALC 14.5% BY VOL PRODUCT OF USA',\n",
       " 60: 'I\\n\\nmn\\nqu\\n\\naD\\nCN\\nhop)\\n\\nCA |\\nlaw\\n\\nI\\n\\nI\\n\\n@)\\n\\nD\\n\\nCHARDONNAY\\nMONTEREY COUNTY\\n2015',\n",
       " 61: 'RAVENS\\n\\nret\\n\\nWOOD\\n\\nZINFANDEL',\n",
       " 62: '2016\\n\\nROCHIOL!\\n\\nns Ble',\n",
       " 63: 'LAKE COUNTY, CALIF.\\n\\nSHANNON RIDGE\\n\\n2015 CABERNET SAUVIGNON\\n\\nLike the original settlers that first planted vines here in the late 1800’s,\\nthis ridge is our family’s home. We consider ourselves stewards of this land, and are\\npassionate about its preservation, not only for the great vineyard sites, but for\\nthe many wild creatures that also call this mountain property home.\\n\\n1LEVATION COLLE e\\n\\npies BUSVST TON COLLECTION\\n\\nze Men 20%\\n\\nMILLILITERS ALC BY VOL\\n; Arr EARILED',\n",
       " 64: 'CLIFF LEDE\\n\\nNAPA VAD DEY\\n\\nCABERNET SAUVIGNON\\n\\nSTAGS LEAP DISTRICT',\n",
       " 65: 'RED SHOULDER RANCH’\\n\\nShafer\\n\\nNapa Valley\\nCarneros\\n\\nCHARDONNAY\\n\\n    \\n\\nGrown, Produced & Bottled by\\nShafer Vineyards, Napa, CA',\n",
       " 66: 'ESTABLISHED IN 1983\\n\\n \\n\\n \\n\\n \\n\\n \\n\\nLE CIGARE BLANC\\nBONNY DOON VINEYARD\\n\\nWHITE WINE OF THE EARTH',\n",
       " 67: 'STONESTREET\\n\\nESTATE VINEYARDS\\n\\nCHARDONNAY',\n",
       " 68: '=\\n(@\\na\\na\\n_\\nWY\\n\\n2OLG\\n\\nHoME RANCH\\nCHARDONNAY\\n\\nDRY CREEK VALLEY\\nSONOMA COUNTY',\n",
       " 69: 'yINTAGE 2014\\n\\nBOGLE\\n\\nNEYARDS\\nee prope growers we hold high\\nx egard fe x the mindfed lending of the soil\\nand exciting Co of the collar.\\n\\n \\n      \\n   \\n   \\n\\nad\\n\\nMirai yay\\n€ ¢ /\\n\\n//\\nCALIFORNIA ¥\\n\\n   \\n\\nALCOHOL 13.5% By VOUNE',\n",
       " 70: 'RRVMO\\nwae €\\n\\nPINOT GRIGIO\\n\\nMONTEREY\\n\\n \\n\\nby CARMEL ROAD',\n",
       " 71: 'pe î\\n\\nit a s\\n\\n\"SILVER OAK\\n\\nAlexander Valley Cabernet Sauvignon',\n",
       " 72: '',\n",
       " 73: '(OUINTESSA',\n",
       " 74: 'LEESE- FITCH\\n\\nCALIFORNIA\\n\\nCHARDONNAY\\n\\nESTABLISHED IN 1836,\\n\\nTHE LEESE-FITCH ADOBE\\nHAS BEEN HOME TO A\\nGIRLS’ SCHOOL, A HOTEL,\\nA’MILITARY HEADQUARTERS,\\nALONG WITH SEVERAL\\n\\n \\n\\nSALOONS AND, RESTAURANTS.\\n\\n€\\n\\nIN 2004 1T BECAME THE FIRST\\nHOME OF WHAT WOULD BECOME\\n3_BADGE BEVERAGE CORP.\\n\\nH\\n\\nLEESE-FIT',\n",
       " 75: 'Il\\nly\\nll\\n\\nHi',\n",
       " 76: 'AMAPOLA CREEK\\n\\nCABERNET SAUVIGNON\\n\\nESTATE BOTTLED',\n",
       " 77: 'BERINGER.\\n\\nPRIVATE RESERVE\\n\\nCHARDONNAY\\n2015\\n\\nNAPA VALLEY',\n",
       " 78: 'PINOT NOIR\\nBIEN NACIDO VINEYARD\\n\\nSANTA MARIA VALLEY',\n",
       " 79: 'ELLIE’S\\n\\nCabernet Sauvignon « Napa Valley\\n\\nAlc. 15.2% by Vol.',\n",
       " 80: \"bre Bu\\n\\nCALIFORNIA'S FIRST PREMIUM WINERY\\n\\nCHATEAU BUENA VISTA\\nNAPA VALLEY\\n\\nCABERNET SAUVIGNON\",\n",
       " 81: 'FRANCISCAN\\n\\nNAPA VALLEY\\n\\n \\n\\nNAPA VALLEY\\nMERITAGE, RED WINE\\n\\nCABERNET SAUVIGNON, MERLOT,\\nMALBEC, CABERNET FRANC',\n",
       " 82: 'MOUNTAIN ZINFANDEL\\n\\n2015',\n",
       " 83: 'CLARK & TELEPHONE\\nSANTA MARIA VALLEY\\nSANTA BARBARA COUNTY',\n",
       " 84: 'DUCKHORN\\n\\nMERLOT\\n2014\\n\\n \\n\\n \\n\\n \\n\\n \\n\\nALC. 14.5% BY VOL,',\n",
       " 85: 'ParminaA\\n\\n \\n\\nPOOS\\n\\n+ (pb\\n\\nSISQUOC\\n\\nee le\\n\\n   \\n\\nSANTA MARIA VALLEY NEBBIOLO, 14.9% ALCOHOL BY VOLUME\\nPRODUCED AND BOTTLED BY PALMINA, LOMPOC, CA',\n",
       " 86: '',\n",
       " 87: 'RUSSIAN RIVER VALLEY\\nLES POMMIERS',\n",
       " 88: 'AVALON\\n\\nnN\\n\\nCOUNT\\n\\n \\n\\nCABERNET SAUVIGNON',\n",
       " 89: 'CR\\n\\nHook\\n\\nCABERNET SAUVIGNON\\nCENTRAL COAST',\n",
       " 90: 'SEA SLOPES\\n\\nFORT ROSS WINERY\\n\\ng ne Abe\\nSONOMA COAST',\n",
       " 91: 'FAUST\\n\\nNAPA VALLEY\\n\\n \\n\\nCABERNET SAUVIG',\n",
       " 92: '©\\nMIRA\\n\\nNAPA VALLEY\\n\\nCABERNET SAUVIGNON',\n",
       " 93: 'colgin\\n\\nIX ESTATE',\n",
       " 94: 'CASTORO\\n\\nRESERVE\\n2015\\n\\nZINFUSION',\n",
       " 95: 'MOUNT\\nVEEDER\\nWINERY\\n\\nCABERNET\\nSAUVIGNON\\n\\nNAPA VALLEY\\n\\n25',\n",
       " 96: 'OBERON\\n\\nMy , iz °\\nWDintners ecb |\\n\\nCABERNET SAUVIGNON\\n\\nMICH MEI\\nCELLARED BY THE MOWDAVI NAPA, CALIFORNIA\\n\\nF A WI EL Y',\n",
       " 97: 'BLACKBIRD\\nVINEYARODS',\n",
       " 98: 'HIGH H VALLEY\\nregard\\n\\nZINFANDEL\\n\\nHIGH WALLEY\\nLAKE COUNTY\\n\\nOn\\n\\n \\n\\nALC. 15.1% BY VOL',\n",
       " 99: 'SEAN MINOR.\\n\\nCabernet Sauvignon\\nNAPA VALLEY',\n",
       " 100: 'DECOY\\n\\na 22772\\nPINOT NOIR'}"
      ]
     },
     "execution_count": 3,
     "metadata": {},
     "output_type": "execute_result"
    }
   ],
   "source": [
    "text_unstructure"
   ]
  },
  {
   "cell_type": "code",
   "execution_count": 4,
   "metadata": {},
   "outputs": [
    {
     "data": {
      "text/html": [
       "<div>\n",
       "<style scoped>\n",
       "    .dataframe tbody tr th:only-of-type {\n",
       "        vertical-align: middle;\n",
       "    }\n",
       "\n",
       "    .dataframe tbody tr th {\n",
       "        vertical-align: top;\n",
       "    }\n",
       "\n",
       "    .dataframe thead th {\n",
       "        text-align: right;\n",
       "    }\n",
       "</style>\n",
       "<table border=\"1\" class=\"dataframe\">\n",
       "  <thead>\n",
       "    <tr style=\"text-align: right;\">\n",
       "      <th></th>\n",
       "      <th>0</th>\n",
       "    </tr>\n",
       "  </thead>\n",
       "  <tbody>\n",
       "    <tr>\n",
       "      <th>1</th>\n",
       "      <td>MUMM NAPA\\n\\n= Bo 9 Jas Bae ea 6 oe maa Bad Bk</td>\n",
       "    </tr>\n",
       "    <tr>\n",
       "      <th>2</th>\n",
       "      <td>ove TRADITION,\\në\\n€\\n&lt;e\\n\\nMUMM NAPA\\n\\nBLANC...</td>\n",
       "    </tr>\n",
       "    <tr>\n",
       "      <th>3</th>\n",
       "      <td></td>\n",
       "    </tr>\n",
       "    <tr>\n",
       "      <th>4</th>\n",
       "      <td>MUMM NAPA\\n\\nBRUT ROSE</td>\n",
       "    </tr>\n",
       "    <tr>\n",
       "      <th>5</th>\n",
       "      <td>JOSEPH PHELPS\\n\\nINSIGNIA\\n\\nNAPA VALLEY\\n\\nES...</td>\n",
       "    </tr>\n",
       "  </tbody>\n",
       "</table>\n",
       "</div>"
      ],
      "text/plain": [
       "                                                   0\n",
       "1     MUMM NAPA\\n\\n= Bo 9 Jas Bae ea 6 oe maa Bad Bk\n",
       "2  ove TRADITION,\\në\\n€\\n<e\\n\\nMUMM NAPA\\n\\nBLANC...\n",
       "3                                                   \n",
       "4                             MUMM NAPA\\n\\nBRUT ROSE\n",
       "5  JOSEPH PHELPS\\n\\nINSIGNIA\\n\\nNAPA VALLEY\\n\\nES..."
      ]
     },
     "execution_count": 4,
     "metadata": {},
     "output_type": "execute_result"
    }
   ],
   "source": [
    "wine_str=pd.DataFrame(text_unstructure,index=[0]).T\n",
    "wine_str.head()"
   ]
  },
  {
   "cell_type": "code",
   "execution_count": 45,
   "metadata": {
    "scrolled": false
   },
   "outputs": [
    {
     "data": {
      "text/html": [
       "<div>\n",
       "<style scoped>\n",
       "    .dataframe tbody tr th:only-of-type {\n",
       "        vertical-align: middle;\n",
       "    }\n",
       "\n",
       "    .dataframe tbody tr th {\n",
       "        vertical-align: top;\n",
       "    }\n",
       "\n",
       "    .dataframe thead th {\n",
       "        text-align: right;\n",
       "    }\n",
       "</style>\n",
       "<table border=\"1\" class=\"dataframe\">\n",
       "  <thead>\n",
       "    <tr style=\"text-align: right;\">\n",
       "      <th></th>\n",
       "      <th>country</th>\n",
       "      <th>description</th>\n",
       "      <th>designation</th>\n",
       "      <th>points</th>\n",
       "      <th>price</th>\n",
       "      <th>province</th>\n",
       "      <th>region_1</th>\n",
       "      <th>region_2</th>\n",
       "      <th>taster_name</th>\n",
       "      <th>title</th>\n",
       "      <th>variety</th>\n",
       "      <th>winery</th>\n",
       "      <th>year</th>\n",
       "      <th>unique_name</th>\n",
       "      <th>index</th>\n",
       "    </tr>\n",
       "  </thead>\n",
       "  <tbody>\n",
       "    <tr>\n",
       "      <th>0</th>\n",
       "      <td>Italy</td>\n",
       "      <td>Aromas include tropical fruit, broom, brimston...</td>\n",
       "      <td>Vulkà Bianco</td>\n",
       "      <td>87.0</td>\n",
       "      <td>NaN</td>\n",
       "      <td>Sicily &amp; Sardinia</td>\n",
       "      <td>Etna</td>\n",
       "      <td>NaN</td>\n",
       "      <td>Kerin O’Keefe</td>\n",
       "      <td>Nicosia 2013 Vulkà Bianco  (Etna)</td>\n",
       "      <td>White Blend</td>\n",
       "      <td>Nicosia</td>\n",
       "      <td>2013.0</td>\n",
       "      <td>Nicosia 2013 Vulkà Bianco  (Etna) White Blend</td>\n",
       "      <td>0.0</td>\n",
       "    </tr>\n",
       "    <tr>\n",
       "      <th>1</th>\n",
       "      <td>Portugal</td>\n",
       "      <td>This is ripe and fruity, a wine that is smooth...</td>\n",
       "      <td>Avidagos</td>\n",
       "      <td>87.0</td>\n",
       "      <td>15.0</td>\n",
       "      <td>Douro</td>\n",
       "      <td>NaN</td>\n",
       "      <td>NaN</td>\n",
       "      <td>Roger Voss</td>\n",
       "      <td>Quinta dos Avidagos 2011 Avidagos Red (Douro)</td>\n",
       "      <td>Portuguese Red</td>\n",
       "      <td>Quinta dos Avidagos</td>\n",
       "      <td>2011.0</td>\n",
       "      <td>Quinta dos Avidagos 2011 Avidagos Red (Douro) ...</td>\n",
       "      <td>1.0</td>\n",
       "    </tr>\n",
       "    <tr>\n",
       "      <th>2</th>\n",
       "      <td>US</td>\n",
       "      <td>Tart and snappy, the flavors of lime flesh and...</td>\n",
       "      <td>NaN</td>\n",
       "      <td>87.0</td>\n",
       "      <td>14.0</td>\n",
       "      <td>Oregon</td>\n",
       "      <td>Willamette Valley</td>\n",
       "      <td>Willamette Valley</td>\n",
       "      <td>Paul Gregutt</td>\n",
       "      <td>Rainstorm 2013 Pinot Gris (Willamette Valley)</td>\n",
       "      <td>Pinot Gris</td>\n",
       "      <td>Rainstorm</td>\n",
       "      <td>2013.0</td>\n",
       "      <td>Rainstorm 2013 Pinot Gris (Willamette Valley) ...</td>\n",
       "      <td>2.0</td>\n",
       "    </tr>\n",
       "    <tr>\n",
       "      <th>3</th>\n",
       "      <td>US</td>\n",
       "      <td>Pineapple rind, lemon pith and orange blossom ...</td>\n",
       "      <td>Reserve Late Harvest</td>\n",
       "      <td>87.0</td>\n",
       "      <td>13.0</td>\n",
       "      <td>Michigan</td>\n",
       "      <td>Lake Michigan Shore</td>\n",
       "      <td>NaN</td>\n",
       "      <td>Alexander Peartree</td>\n",
       "      <td>St. Julian 2013 Reserve Late Harvest Riesling ...</td>\n",
       "      <td>Riesling</td>\n",
       "      <td>St. Julian</td>\n",
       "      <td>2013.0</td>\n",
       "      <td>St. Julian 2013 Reserve Late Harvest Riesling ...</td>\n",
       "      <td>3.0</td>\n",
       "    </tr>\n",
       "    <tr>\n",
       "      <th>4</th>\n",
       "      <td>US</td>\n",
       "      <td>Much like the regular bottling from 2012, this...</td>\n",
       "      <td>Vintner's Reserve Wild Child Block</td>\n",
       "      <td>87.0</td>\n",
       "      <td>65.0</td>\n",
       "      <td>Oregon</td>\n",
       "      <td>Willamette Valley</td>\n",
       "      <td>Willamette Valley</td>\n",
       "      <td>Paul Gregutt</td>\n",
       "      <td>Sweet Cheeks 2012 Vintner's Reserve Wild Child...</td>\n",
       "      <td>Pinot Noir</td>\n",
       "      <td>Sweet Cheeks</td>\n",
       "      <td>2012.0</td>\n",
       "      <td>Sweet Cheeks 2012 Vintner's Reserve Wild Child...</td>\n",
       "      <td>4.0</td>\n",
       "    </tr>\n",
       "  </tbody>\n",
       "</table>\n",
       "</div>"
      ],
      "text/plain": [
       "    country                                        description  \\\n",
       "0     Italy  Aromas include tropical fruit, broom, brimston...   \n",
       "1  Portugal  This is ripe and fruity, a wine that is smooth...   \n",
       "2        US  Tart and snappy, the flavors of lime flesh and...   \n",
       "3        US  Pineapple rind, lemon pith and orange blossom ...   \n",
       "4        US  Much like the regular bottling from 2012, this...   \n",
       "\n",
       "                          designation  points  price           province  \\\n",
       "0                        Vulkà Bianco    87.0    NaN  Sicily & Sardinia   \n",
       "1                            Avidagos    87.0   15.0              Douro   \n",
       "2                                 NaN    87.0   14.0             Oregon   \n",
       "3                Reserve Late Harvest    87.0   13.0           Michigan   \n",
       "4  Vintner's Reserve Wild Child Block    87.0   65.0             Oregon   \n",
       "\n",
       "              region_1           region_2         taster_name  \\\n",
       "0                 Etna                NaN       Kerin O’Keefe   \n",
       "1                  NaN                NaN          Roger Voss   \n",
       "2    Willamette Valley  Willamette Valley        Paul Gregutt   \n",
       "3  Lake Michigan Shore                NaN  Alexander Peartree   \n",
       "4    Willamette Valley  Willamette Valley        Paul Gregutt   \n",
       "\n",
       "                                               title         variety  \\\n",
       "0                  Nicosia 2013 Vulkà Bianco  (Etna)     White Blend   \n",
       "1      Quinta dos Avidagos 2011 Avidagos Red (Douro)  Portuguese Red   \n",
       "2      Rainstorm 2013 Pinot Gris (Willamette Valley)      Pinot Gris   \n",
       "3  St. Julian 2013 Reserve Late Harvest Riesling ...        Riesling   \n",
       "4  Sweet Cheeks 2012 Vintner's Reserve Wild Child...      Pinot Noir   \n",
       "\n",
       "                winery    year  \\\n",
       "0              Nicosia  2013.0   \n",
       "1  Quinta dos Avidagos  2011.0   \n",
       "2            Rainstorm  2013.0   \n",
       "3           St. Julian  2013.0   \n",
       "4         Sweet Cheeks  2012.0   \n",
       "\n",
       "                                         unique_name  index  \n",
       "0      Nicosia 2013 Vulkà Bianco  (Etna) White Blend    0.0  \n",
       "1  Quinta dos Avidagos 2011 Avidagos Red (Douro) ...    1.0  \n",
       "2  Rainstorm 2013 Pinot Gris (Willamette Valley) ...    2.0  \n",
       "3  St. Julian 2013 Reserve Late Harvest Riesling ...    3.0  \n",
       "4  Sweet Cheeks 2012 Vintner's Reserve Wild Child...    4.0  "
      ]
     },
     "execution_count": 45,
     "metadata": {},
     "output_type": "execute_result"
    }
   ],
   "source": [
    "wine = pd.read_csv('https://raw.githubusercontent.com/zy2292/Wine-Master/master/Data/wine_data_cleaned.csv')\n",
    "wine.head()"
   ]
  },
  {
   "cell_type": "code",
   "execution_count": 6,
   "metadata": {},
   "outputs": [],
   "source": [
    "def str_process(string):\n",
    "    string=string.replace('\\n','')\n",
    "    string=string.replace(' ', '')\n",
    "    string=''.join([*filter(str.isalnum, string)])\n",
    "    string=''.join(string)\n",
    "    string=string.upper()\n",
    "    return string"
   ]
  },
  {
   "cell_type": "code",
   "execution_count": 56,
   "metadata": {},
   "outputs": [
    {
     "name": "stdout",
     "output_type": "stream",
     "text": [
      "LEESEFITCHCALIFORNIACHARDONNAYESTABLISHEDIN1836THELEESEFITCHADOBEHASBEENHOMETOAGIRLSSCHOOLAHOTELAMILITARYHEADQUARTERSALONGWITHSEVERALSALOONSANDRESTAURANTSIN20041TBECAMETHEFIRSTHOMEOFWHATWOULDBECOME3BADGEBEVERAGECORPHLEESEFIT\n"
     ]
    }
   ],
   "source": [
    "text = str_process(text_unstructure[74])\n",
    "print(text)"
   ]
  },
  {
   "cell_type": "code",
   "execution_count": 47,
   "metadata": {},
   "outputs": [],
   "source": [
    "wine['designation']=wine['designation'].apply(str).apply(str_process)\n",
    "wine['province']=wine['province'].apply(str).apply(str_process)\n",
    "wine['region_1']=wine['region_1'].apply(str).apply(str_process)\n",
    "wine['variety']=wine['variety'].apply(str).apply(str_process)\n",
    "wine['winery']=wine['winery'].apply(str).apply(str_process)\n",
    "wine['year']=wine['year'].fillna(0).apply(int).apply(str).apply(str_process)"
   ]
  },
  {
   "cell_type": "code",
   "execution_count": 89,
   "metadata": {},
   "outputs": [
    {
     "data": {
      "text/plain": [
       "0.01904761904761905"
      ]
     },
     "execution_count": 89,
     "metadata": {},
     "output_type": "execute_result"
    }
   ],
   "source": [
    "from py_stringmatching.tokenizer.qgram_tokenizer import QgramTokenizer\n",
    "from py_stringmatching.similarity_measure.tversky_index import TverskyIndex\n",
    "\n",
    "def get_tversky_index(proto, query, n=3, beta=0.5):\n",
    "    tversky = TverskyIndex(beta=beta)\n",
    "    qgram = QgramTokenizer(qval=n, padding=False)\n",
    "    inters = tversky.get_sim_score(qgram.tokenize(query), qgram.tokenize(proto))\n",
    "    return inters\n",
    "\n",
    "get_tversky_index(\"MUMMNAPABRUTPRESTIGE\", text, n=3, beta=0.5)"
   ]
  },
  {
   "cell_type": "code",
   "execution_count": 87,
   "metadata": {},
   "outputs": [
    {
     "data": {
      "text/plain": [
       "0.019646365422396856"
      ]
     },
     "execution_count": 87,
     "metadata": {},
     "output_type": "execute_result"
    }
   ],
   "source": [
    "get_tversky_index(\"MUMMNAPABRUTPRESTIGE\", text, n=3, beta=0.3)"
   ]
  },
  {
   "cell_type": "code",
   "execution_count": 13,
   "metadata": {},
   "outputs": [],
   "source": [
    "from multiprocessing import Pool\n",
    "from functools import partial"
   ]
  },
  {
   "cell_type": "code",
   "execution_count": 91,
   "metadata": {},
   "outputs": [],
   "source": [
    "def match_col(arg, query, n=3):\n",
    "    col, beta = arg\n",
    "    table = wine[col]\n",
    "    score = table.apply(lambda x: get_tversky_index(x, query, n=n, beta=beta))\n",
    "    return score"
   ]
  },
  {
   "cell_type": "code",
   "execution_count": 95,
   "metadata": {},
   "outputs": [
    {
     "data": {
      "text/plain": [
       "1    0.009930\n",
       "2    0.000000\n",
       "3    0.000000\n",
       "4    0.010111\n",
       "Name: winery, dtype: float64"
      ]
     },
     "execution_count": 95,
     "metadata": {},
     "output_type": "execute_result"
    }
   ],
   "source": [
    "scores = match_col(arg=('winery', 0.3), query=text, n=3)"
   ]
  },
  {
   "cell_type": "code",
   "execution_count": 102,
   "metadata": {},
   "outputs": [
    {
     "data": {
      "text/plain": [
       "96651     0.117647\n",
       "103986    0.115942\n",
       "44344     0.115942\n",
       "89187     0.115942\n",
       "109976    0.115942\n",
       "Name: winery, dtype: float64"
      ]
     },
     "execution_count": 102,
     "metadata": {},
     "output_type": "execute_result"
    }
   ],
   "source": [
    "scores.sort_values()[::-1].head()"
   ]
  },
  {
   "cell_type": "code",
   "execution_count": 90,
   "metadata": {},
   "outputs": [
    {
     "data": {
      "text/plain": [
       "[('designation', 0.5),\n",
       " ('province', 0.5),\n",
       " ('region_1', 0.5),\n",
       " ('variety', 0.5),\n",
       " ('winery', 0.3),\n",
       " ('year', 0.3)]"
      ]
     },
     "execution_count": 90,
     "metadata": {},
     "output_type": "execute_result"
    }
   ],
   "source": [
    "cols = cols = ['designation', 'province','region_1','variety','winery','year']\n",
    "betas = [0.5, 0.5, 0.5, 0.5, 0.3, 0.3]\n",
    "list(zip(cols, betas))"
   ]
  },
  {
   "cell_type": "code",
   "execution_count": 85,
   "metadata": {},
   "outputs": [
    {
     "name": "stdout",
     "output_type": "stream",
     "text": [
      "2018-05-06 21:33:29.397971\n",
      "2018-05-06 21:33:54.376874\n"
     ]
    }
   ],
   "source": [
    "print(str(datetime.now()))\n",
    "\n",
    "def main():\n",
    "    cols = cols = ['designation', 'province','region_1','variety','winery','year']\n",
    "    betas = [0.5, 0.5, 0.5, 0.5, 0.3, 0.3]\n",
    "    args = zip(cols, betas)\n",
    "    \n",
    "    pool = Pool()\n",
    "    func = partial(match_col, query=text, n=3)\n",
    "    score = pool.map(func, args)\n",
    "    wine['scores'] = sum(score)\n",
    "    result = wine[wine['scores']==max(wine['scores'])]\n",
    "    pool.close()\n",
    "    pool.join()\n",
    "\n",
    "if __name__ == \"__main__\":\n",
    "    main()\n",
    "\n",
    "print(str(datetime.now()))"
   ]
  },
  {
   "cell_type": "code",
   "execution_count": 86,
   "metadata": {},
   "outputs": [
    {
     "data": {
      "text/html": [
       "<div>\n",
       "<style scoped>\n",
       "    .dataframe tbody tr th:only-of-type {\n",
       "        vertical-align: middle;\n",
       "    }\n",
       "\n",
       "    .dataframe tbody tr th {\n",
       "        vertical-align: top;\n",
       "    }\n",
       "\n",
       "    .dataframe thead th {\n",
       "        text-align: right;\n",
       "    }\n",
       "</style>\n",
       "<table border=\"1\" class=\"dataframe\">\n",
       "  <thead>\n",
       "    <tr style=\"text-align: right;\">\n",
       "      <th></th>\n",
       "      <th>country</th>\n",
       "      <th>description</th>\n",
       "      <th>designation</th>\n",
       "      <th>points</th>\n",
       "      <th>price</th>\n",
       "      <th>province</th>\n",
       "      <th>region_1</th>\n",
       "      <th>region_2</th>\n",
       "      <th>taster_name</th>\n",
       "      <th>title</th>\n",
       "      <th>variety</th>\n",
       "      <th>winery</th>\n",
       "      <th>year</th>\n",
       "      <th>unique_name</th>\n",
       "      <th>index</th>\n",
       "      <th>scores</th>\n",
       "    </tr>\n",
       "  </thead>\n",
       "  <tbody>\n",
       "    <tr>\n",
       "      <th>33824</th>\n",
       "      <td>US</td>\n",
       "      <td>This lean wine has light melon and dried herb ...</td>\n",
       "      <td>CALIFORNIASERIES</td>\n",
       "      <td>81.0</td>\n",
       "      <td>14.0</td>\n",
       "      <td>CALIFORNIA</td>\n",
       "      <td>CALIFORNIA</td>\n",
       "      <td>California Other</td>\n",
       "      <td>Jim Gordon</td>\n",
       "      <td>Cambridge &amp; Sunset 2013 California Series Char...</td>\n",
       "      <td>CHARDONNAY</td>\n",
       "      <td>CAMBRIDGESUNSET</td>\n",
       "      <td>2013</td>\n",
       "      <td>Cambridge &amp; Sunset 2013 California Series Char...</td>\n",
       "      <td>33824.0</td>\n",
       "      <td>0.337182</td>\n",
       "    </tr>\n",
       "    <tr>\n",
       "      <th>49964</th>\n",
       "      <td>US</td>\n",
       "      <td>This is a good, straightforward table wine wit...</td>\n",
       "      <td>CALIFORNIASERIES</td>\n",
       "      <td>86.0</td>\n",
       "      <td>14.0</td>\n",
       "      <td>CALIFORNIA</td>\n",
       "      <td>CALIFORNIA</td>\n",
       "      <td>California Other</td>\n",
       "      <td>Jim Gordon</td>\n",
       "      <td>Cambridge &amp; Sunset 2014 California Series Char...</td>\n",
       "      <td>CHARDONNAY</td>\n",
       "      <td>CAMBRIDGESUNSET</td>\n",
       "      <td>2014</td>\n",
       "      <td>Cambridge &amp; Sunset 2014 California Series Char...</td>\n",
       "      <td>49964.0</td>\n",
       "      <td>0.337182</td>\n",
       "    </tr>\n",
       "  </tbody>\n",
       "</table>\n",
       "</div>"
      ],
      "text/plain": [
       "      country                                        description  \\\n",
       "33824      US  This lean wine has light melon and dried herb ...   \n",
       "49964      US  This is a good, straightforward table wine wit...   \n",
       "\n",
       "            designation  points  price    province    region_1  \\\n",
       "33824  CALIFORNIASERIES    81.0   14.0  CALIFORNIA  CALIFORNIA   \n",
       "49964  CALIFORNIASERIES    86.0   14.0  CALIFORNIA  CALIFORNIA   \n",
       "\n",
       "               region_2 taster_name  \\\n",
       "33824  California Other  Jim Gordon   \n",
       "49964  California Other  Jim Gordon   \n",
       "\n",
       "                                                   title     variety  \\\n",
       "33824  Cambridge & Sunset 2013 California Series Char...  CHARDONNAY   \n",
       "49964  Cambridge & Sunset 2014 California Series Char...  CHARDONNAY   \n",
       "\n",
       "                winery  year  \\\n",
       "33824  CAMBRIDGESUNSET  2013   \n",
       "49964  CAMBRIDGESUNSET  2014   \n",
       "\n",
       "                                             unique_name    index    scores  \n",
       "33824  Cambridge & Sunset 2013 California Series Char...  33824.0  0.337182  \n",
       "49964  Cambridge & Sunset 2014 California Series Char...  49964.0  0.337182  "
      ]
     },
     "execution_count": 86,
     "metadata": {},
     "output_type": "execute_result"
    }
   ],
   "source": [
    "result"
   ]
  },
  {
   "cell_type": "code",
   "execution_count": 82,
   "metadata": {},
   "outputs": [
    {
     "data": {
      "text/html": [
       "<div>\n",
       "<style scoped>\n",
       "    .dataframe tbody tr th:only-of-type {\n",
       "        vertical-align: middle;\n",
       "    }\n",
       "\n",
       "    .dataframe tbody tr th {\n",
       "        vertical-align: top;\n",
       "    }\n",
       "\n",
       "    .dataframe thead th {\n",
       "        text-align: right;\n",
       "    }\n",
       "</style>\n",
       "<table border=\"1\" class=\"dataframe\">\n",
       "  <thead>\n",
       "    <tr style=\"text-align: right;\">\n",
       "      <th></th>\n",
       "      <th>country</th>\n",
       "      <th>description</th>\n",
       "      <th>designation</th>\n",
       "      <th>points</th>\n",
       "      <th>price</th>\n",
       "      <th>province</th>\n",
       "      <th>region_1</th>\n",
       "      <th>region_2</th>\n",
       "      <th>taster_name</th>\n",
       "      <th>title</th>\n",
       "      <th>variety</th>\n",
       "      <th>winery</th>\n",
       "      <th>year</th>\n",
       "      <th>unique_name</th>\n",
       "      <th>index</th>\n",
       "      <th>scores</th>\n",
       "    </tr>\n",
       "  </thead>\n",
       "  <tbody>\n",
       "    <tr>\n",
       "      <th>33824</th>\n",
       "      <td>US</td>\n",
       "      <td>This lean wine has light melon and dried herb ...</td>\n",
       "      <td>CALIFORNIASERIES</td>\n",
       "      <td>81.0</td>\n",
       "      <td>14.0</td>\n",
       "      <td>CALIFORNIA</td>\n",
       "      <td>CALIFORNIA</td>\n",
       "      <td>California Other</td>\n",
       "      <td>Jim Gordon</td>\n",
       "      <td>Cambridge &amp; Sunset 2013 California Series Char...</td>\n",
       "      <td>CHARDONNAY</td>\n",
       "      <td>CAMBRIDGESUNSET</td>\n",
       "      <td>2013</td>\n",
       "      <td>Cambridge &amp; Sunset 2013 California Series Char...</td>\n",
       "      <td>33824.0</td>\n",
       "      <td>0.337182</td>\n",
       "    </tr>\n",
       "    <tr>\n",
       "      <th>49964</th>\n",
       "      <td>US</td>\n",
       "      <td>This is a good, straightforward table wine wit...</td>\n",
       "      <td>CALIFORNIASERIES</td>\n",
       "      <td>86.0</td>\n",
       "      <td>14.0</td>\n",
       "      <td>CALIFORNIA</td>\n",
       "      <td>CALIFORNIA</td>\n",
       "      <td>California Other</td>\n",
       "      <td>Jim Gordon</td>\n",
       "      <td>Cambridge &amp; Sunset 2014 California Series Char...</td>\n",
       "      <td>CHARDONNAY</td>\n",
       "      <td>CAMBRIDGESUNSET</td>\n",
       "      <td>2014</td>\n",
       "      <td>Cambridge &amp; Sunset 2014 California Series Char...</td>\n",
       "      <td>49964.0</td>\n",
       "      <td>0.337182</td>\n",
       "    </tr>\n",
       "  </tbody>\n",
       "</table>\n",
       "</div>"
      ],
      "text/plain": [
       "      country                                        description  \\\n",
       "33824      US  This lean wine has light melon and dried herb ...   \n",
       "49964      US  This is a good, straightforward table wine wit...   \n",
       "\n",
       "            designation  points  price    province    region_1  \\\n",
       "33824  CALIFORNIASERIES    81.0   14.0  CALIFORNIA  CALIFORNIA   \n",
       "49964  CALIFORNIASERIES    86.0   14.0  CALIFORNIA  CALIFORNIA   \n",
       "\n",
       "               region_2 taster_name  \\\n",
       "33824  California Other  Jim Gordon   \n",
       "49964  California Other  Jim Gordon   \n",
       "\n",
       "                                                   title     variety  \\\n",
       "33824  Cambridge & Sunset 2013 California Series Char...  CHARDONNAY   \n",
       "49964  Cambridge & Sunset 2014 California Series Char...  CHARDONNAY   \n",
       "\n",
       "                winery  year  \\\n",
       "33824  CAMBRIDGESUNSET  2013   \n",
       "49964  CAMBRIDGESUNSET  2014   \n",
       "\n",
       "                                             unique_name    index    scores  \n",
       "33824  Cambridge & Sunset 2013 California Series Char...  33824.0  0.337182  \n",
       "49964  Cambridge & Sunset 2014 California Series Char...  49964.0  0.337182  "
      ]
     },
     "execution_count": 82,
     "metadata": {},
     "output_type": "execute_result"
    }
   ],
   "source": [
    "result"
   ]
  },
  {
   "cell_type": "code",
   "execution_count": null,
   "metadata": {},
   "outputs": [],
   "source": []
  }
 ],
 "metadata": {
  "kernelspec": {
   "display_name": "Python 3",
   "language": "python",
   "name": "python3"
  },
  "language_info": {
   "codemirror_mode": {
    "name": "ipython",
    "version": 3
   },
   "file_extension": ".py",
   "mimetype": "text/x-python",
   "name": "python",
   "nbconvert_exporter": "python",
   "pygments_lexer": "ipython3",
   "version": "3.6.4"
  }
 },
 "nbformat": 4,
 "nbformat_minor": 2
}
