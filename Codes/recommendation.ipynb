{
 "cells": [
  {
   "cell_type": "code",
   "execution_count": 1,
   "metadata": {},
   "outputs": [],
   "source": [
    "import pandas as pd\n",
    "from sklearn.feature_extraction.text import TfidfVectorizer\n",
    "from sklearn.metrics.pairwise import cosine_similarity\n",
    "import nltk.stem\n",
    "from nltk.stem.porter import PorterStemmer\n",
    "from nltk.tokenize import word_tokenize\n",
    "from datetime import datetime\n",
    "import string"
   ]
  },
  {
   "cell_type": "code",
   "execution_count": 2,
   "metadata": {},
   "outputs": [
    {
     "data": {
      "text/html": [
       "<div>\n",
       "<style scoped>\n",
       "    .dataframe tbody tr th:only-of-type {\n",
       "        vertical-align: middle;\n",
       "    }\n",
       "\n",
       "    .dataframe tbody tr th {\n",
       "        vertical-align: top;\n",
       "    }\n",
       "\n",
       "    .dataframe thead th {\n",
       "        text-align: right;\n",
       "    }\n",
       "</style>\n",
       "<table border=\"1\" class=\"dataframe\">\n",
       "  <thead>\n",
       "    <tr style=\"text-align: right;\">\n",
       "      <th></th>\n",
       "      <th>Unnamed: 0</th>\n",
       "      <th>country</th>\n",
       "      <th>description</th>\n",
       "      <th>designation</th>\n",
       "      <th>points</th>\n",
       "      <th>price</th>\n",
       "      <th>province</th>\n",
       "      <th>region_1</th>\n",
       "      <th>region_2</th>\n",
       "      <th>taster_name</th>\n",
       "      <th>title</th>\n",
       "      <th>variety</th>\n",
       "      <th>winery</th>\n",
       "      <th>year</th>\n",
       "      <th>unique_name</th>\n",
       "    </tr>\n",
       "  </thead>\n",
       "  <tbody>\n",
       "    <tr>\n",
       "      <th>0</th>\n",
       "      <td>1</td>\n",
       "      <td>Italy</td>\n",
       "      <td>Aromas include tropical fruit, broom, brimston...</td>\n",
       "      <td>Vulkà Bianco</td>\n",
       "      <td>87.0</td>\n",
       "      <td>NaN</td>\n",
       "      <td>Sicily &amp; Sardinia</td>\n",
       "      <td>Etna</td>\n",
       "      <td>NaN</td>\n",
       "      <td>Kerin O’Keefe</td>\n",
       "      <td>Nicosia 2013 Vulkà Bianco  (Etna)</td>\n",
       "      <td>White Blend</td>\n",
       "      <td>Nicosia</td>\n",
       "      <td>2013.0</td>\n",
       "      <td>Nicosia 2013 Vulkà Bianco  (Etna) White Blend</td>\n",
       "    </tr>\n",
       "    <tr>\n",
       "      <th>1</th>\n",
       "      <td>2</td>\n",
       "      <td>Portugal</td>\n",
       "      <td>This is ripe and fruity, a wine that is smooth...</td>\n",
       "      <td>Avidagos</td>\n",
       "      <td>87.0</td>\n",
       "      <td>15.0</td>\n",
       "      <td>Douro</td>\n",
       "      <td>NaN</td>\n",
       "      <td>NaN</td>\n",
       "      <td>Roger Voss</td>\n",
       "      <td>Quinta dos Avidagos 2011 Avidagos Red (Douro)</td>\n",
       "      <td>Portuguese Red</td>\n",
       "      <td>Quinta dos Avidagos</td>\n",
       "      <td>2011.0</td>\n",
       "      <td>Quinta dos Avidagos 2011 Avidagos Red (Douro) ...</td>\n",
       "    </tr>\n",
       "    <tr>\n",
       "      <th>2</th>\n",
       "      <td>3</td>\n",
       "      <td>US</td>\n",
       "      <td>Tart and snappy, the flavors of lime flesh and...</td>\n",
       "      <td>NaN</td>\n",
       "      <td>87.0</td>\n",
       "      <td>14.0</td>\n",
       "      <td>Oregon</td>\n",
       "      <td>Willamette Valley</td>\n",
       "      <td>Willamette Valley</td>\n",
       "      <td>Paul Gregutt</td>\n",
       "      <td>Rainstorm 2013 Pinot Gris (Willamette Valley)</td>\n",
       "      <td>Pinot Gris</td>\n",
       "      <td>Rainstorm</td>\n",
       "      <td>2013.0</td>\n",
       "      <td>Rainstorm 2013 Pinot Gris (Willamette Valley) ...</td>\n",
       "    </tr>\n",
       "    <tr>\n",
       "      <th>3</th>\n",
       "      <td>4</td>\n",
       "      <td>US</td>\n",
       "      <td>Pineapple rind, lemon pith and orange blossom ...</td>\n",
       "      <td>Reserve Late Harvest</td>\n",
       "      <td>87.0</td>\n",
       "      <td>13.0</td>\n",
       "      <td>Michigan</td>\n",
       "      <td>Lake Michigan Shore</td>\n",
       "      <td>NaN</td>\n",
       "      <td>Alexander Peartree</td>\n",
       "      <td>St. Julian 2013 Reserve Late Harvest Riesling ...</td>\n",
       "      <td>Riesling</td>\n",
       "      <td>St. Julian</td>\n",
       "      <td>2013.0</td>\n",
       "      <td>St. Julian 2013 Reserve Late Harvest Riesling ...</td>\n",
       "    </tr>\n",
       "    <tr>\n",
       "      <th>4</th>\n",
       "      <td>5</td>\n",
       "      <td>US</td>\n",
       "      <td>Much like the regular bottling from 2012, this...</td>\n",
       "      <td>Vintner's Reserve Wild Child Block</td>\n",
       "      <td>87.0</td>\n",
       "      <td>65.0</td>\n",
       "      <td>Oregon</td>\n",
       "      <td>Willamette Valley</td>\n",
       "      <td>Willamette Valley</td>\n",
       "      <td>Paul Gregutt</td>\n",
       "      <td>Sweet Cheeks 2012 Vintner's Reserve Wild Child...</td>\n",
       "      <td>Pinot Noir</td>\n",
       "      <td>Sweet Cheeks</td>\n",
       "      <td>2012.0</td>\n",
       "      <td>Sweet Cheeks 2012 Vintner's Reserve Wild Child...</td>\n",
       "    </tr>\n",
       "  </tbody>\n",
       "</table>\n",
       "</div>"
      ],
      "text/plain": [
       "   Unnamed: 0   country                                        description  \\\n",
       "0           1     Italy  Aromas include tropical fruit, broom, brimston...   \n",
       "1           2  Portugal  This is ripe and fruity, a wine that is smooth...   \n",
       "2           3        US  Tart and snappy, the flavors of lime flesh and...   \n",
       "3           4        US  Pineapple rind, lemon pith and orange blossom ...   \n",
       "4           5        US  Much like the regular bottling from 2012, this...   \n",
       "\n",
       "                          designation  points  price           province  \\\n",
       "0                        Vulkà Bianco    87.0    NaN  Sicily & Sardinia   \n",
       "1                            Avidagos    87.0   15.0              Douro   \n",
       "2                                 NaN    87.0   14.0             Oregon   \n",
       "3                Reserve Late Harvest    87.0   13.0           Michigan   \n",
       "4  Vintner's Reserve Wild Child Block    87.0   65.0             Oregon   \n",
       "\n",
       "              region_1           region_2         taster_name  \\\n",
       "0                 Etna                NaN       Kerin O’Keefe   \n",
       "1                  NaN                NaN          Roger Voss   \n",
       "2    Willamette Valley  Willamette Valley        Paul Gregutt   \n",
       "3  Lake Michigan Shore                NaN  Alexander Peartree   \n",
       "4    Willamette Valley  Willamette Valley        Paul Gregutt   \n",
       "\n",
       "                                               title         variety  \\\n",
       "0                  Nicosia 2013 Vulkà Bianco  (Etna)     White Blend   \n",
       "1      Quinta dos Avidagos 2011 Avidagos Red (Douro)  Portuguese Red   \n",
       "2      Rainstorm 2013 Pinot Gris (Willamette Valley)      Pinot Gris   \n",
       "3  St. Julian 2013 Reserve Late Harvest Riesling ...        Riesling   \n",
       "4  Sweet Cheeks 2012 Vintner's Reserve Wild Child...      Pinot Noir   \n",
       "\n",
       "                winery    year  \\\n",
       "0              Nicosia  2013.0   \n",
       "1  Quinta dos Avidagos  2011.0   \n",
       "2            Rainstorm  2013.0   \n",
       "3           St. Julian  2013.0   \n",
       "4         Sweet Cheeks  2012.0   \n",
       "\n",
       "                                         unique_name  \n",
       "0      Nicosia 2013 Vulkà Bianco  (Etna) White Blend  \n",
       "1  Quinta dos Avidagos 2011 Avidagos Red (Douro) ...  \n",
       "2  Rainstorm 2013 Pinot Gris (Willamette Valley) ...  \n",
       "3  St. Julian 2013 Reserve Late Harvest Riesling ...  \n",
       "4  Sweet Cheeks 2012 Vintner's Reserve Wild Child...  "
      ]
     },
     "execution_count": 2,
     "metadata": {},
     "output_type": "execute_result"
    }
   ],
   "source": [
    "wine = pd.read_csv('https://raw.githubusercontent.com/zy2292/Wine-Master/master/Data/wine_data_cleaned.csv')\n",
    "wine.head()"
   ]
  },
  {
   "cell_type": "code",
   "execution_count": 3,
   "metadata": {},
   "outputs": [
    {
     "name": "stdout",
     "output_type": "stream",
     "text": [
      "2018-04-18 15:15:59.714452\n",
      "2018-04-18 15:17:24.169808\n",
      "(116759, 189)\n"
     ]
    }
   ],
   "source": [
    "print(str(datetime.now()))\n",
    "stemmer = nltk.stem.SnowballStemmer('english')\n",
    "\n",
    "def stem_tokens(tokens, stemmer):\n",
    "    stemmed = map(lambda x: stemmer.stem(x), tokens)\n",
    "    return stemmed\n",
    "\n",
    "def tokenize(text):\n",
    "    lowers = text.lower()\n",
    "    lowers=lowers.replace(\"-\",\" \")\n",
    "    no_punctuation = lowers.translate(str.maketrans('','',string.punctuation))\n",
    "    tokens = nltk.word_tokenize(no_punctuation)\n",
    "    stems = stem_tokens(tokens, stemmer)\n",
    "    return stems\n",
    "\n",
    "tfidf = TfidfVectorizer(tokenizer=tokenize, stop_words='english',\n",
    "                          ngram_range=(1,1), max_df=0.95, min_df=0.025,\n",
    "                          use_idf=True, binary=False, norm=None)\n",
    "tfidf_matrix = tfidf.fit_transform(wine['description'])\n",
    "print(str(datetime.now()))\n",
    "print(tfidf_matrix.shape)"
   ]
  },
  {
   "cell_type": "code",
   "execution_count": 4,
   "metadata": {},
   "outputs": [
    {
     "name": "stdout",
     "output_type": "stream",
     "text": [
      "['accent', 'acid', 'add', 'age', 'alcohol', 'almond', 'alongsid', 'appl', 'apricot', 'aroma', 'aromat', 'attract', 'bake', 'balanc', 'barrel', 'beauti', 'berri', 'best', 'big', 'bit', 'bitter', 'black', 'blackberri', 'blend', 'blueberri', 'bodi', 'bottl', 'bright', 'bring', 'cabernet', 'candi', 'cassi', 'charact', 'chardonnay', 'cherri', 'chocol', 'cinnamon', 'citrus', 'clean', 'close', 'clove', 'coffe', 'cola', 'color', 'come', 'complex', 'concentr', 'core', 'creami', 'crisp', 'crush', 'currant', 'dark', 'delic', 'delici', 'deliv', 'dens', 'domin', 'dri', 'drink', 'earth', 'earthi', 'easi', 'edg', 'eleg', 'end', 'enjoy', 'feel', 'fine', 'finish', 'firm', 'flavor', 'floral', 'flower', 'follow', 'fresh', 'fruit', 'fruiti', 'generous', 'good', 'grape', 'grapefruit', 'great', 'green', 'herb', 'herbal', 'high', 'hint', 'honey', 'impress', 'intens', 'juici', 'just', 'layer', 'lead', 'leather', 'lemon', 'licoric', 'light', 'like', 'lime', 'linger', 'littl', 'live', 'long', 'make', 'matur', 'medium', 'melon', 'merlot', 'miner', 'mix', 'mouth', 'mouthfeel', 'need', 'new', 'nice', 'noir', 'nose', 'note', 'oak', 'offer', 'open', 'orang', 'palat', 'peach', 'pear', 'pepper', 'perfum', 'pineappl', 'pinot', 'plenti', 'plum', 'power', 'produc', 'raspberri', 'readi', 'red', 'refresh', 'rich', 'ripe', 'round', 'sauvignon', 'savori', 'scent', 'simpl', 'skin', 'slight', 'smoke', 'smoki', 'smooth', 'soft', 'solid', 'spice', 'spici', 'stone', 'strawberri', 'strong', 'structur', 'style', 'suggest', 'sweet', 'syrah', 'tangi', 'tannic', 'tannin', 'tart', 'tast', 'textur', 'tight', 'time', 'toast', 'toasti', 'tobacco', 'tone', 'touch', 'tropic', 'vanilla', 'veri', 'vineyard', 'vintag', 'weight', 'white', 'wild', 'wine', 'wood', 'year', 'yellow', 'young']\n"
     ]
    }
   ],
   "source": [
    "print(tfidf.get_feature_names())"
   ]
  },
  {
   "cell_type": "code",
   "execution_count": 5,
   "metadata": {},
   "outputs": [],
   "source": [
    "import numpy as np\n",
    "from itertools import chain\n",
    "def get_recommendations(train, query):\n",
    "    cos_query=cosine_similarity(train,query)\n",
    "    cos_query=list(chain(*cos_query))\n",
    "    sort_dist=np.argsort(cos_query)[::-1]\n",
    "    return sort_dist[1:6].tolist()"
   ]
  },
  {
   "cell_type": "code",
   "execution_count": 7,
   "metadata": {},
   "outputs": [],
   "source": [
    "strategy=[*map(lambda x: get_recommendations(tfidf_matrix,x),tfidf_matrix[77662])]"
   ]
  },
  {
   "cell_type": "code",
   "execution_count": 8,
   "metadata": {},
   "outputs": [
    {
     "data": {
      "text/plain": [
       "[[99224, 15491, 45437, 64740, 61945]]"
      ]
     },
     "execution_count": 8,
     "metadata": {},
     "output_type": "execute_result"
    }
   ],
   "source": [
    "strategy"
   ]
  },
  {
   "cell_type": "code",
   "execution_count": 9,
   "metadata": {},
   "outputs": [
    {
     "data": {
      "text/plain": [
       "\"There's plenty of ripe pie-filling fruit flavor in this dry wine. Cherries, blackberries, boysenberries and all sorts of other red fruits and berries mingle with melted chocolate, licorice and peppery spice. Turns a bit hot on the finish.\""
      ]
     },
     "execution_count": 9,
     "metadata": {},
     "output_type": "execute_result"
    }
   ],
   "source": [
    "wine.loc[77662,'description']"
   ]
  },
  {
   "cell_type": "code",
   "execution_count": 10,
   "metadata": {},
   "outputs": [
    {
     "data": {
      "text/plain": [
       "\"This 2013 keeps up the full body and ripe fruit of previous releases, with lush texture and saturated chocolate and blackberry flavors. It's a dry red, however, with no detectable sweetness but plenty of tannin and satisfaction.\""
      ]
     },
     "execution_count": 10,
     "metadata": {},
     "output_type": "execute_result"
    }
   ],
   "source": [
    "wine.loc[99224,'description']"
   ]
  },
  {
   "cell_type": "code",
   "execution_count": 11,
   "metadata": {},
   "outputs": [
    {
     "data": {
      "text/plain": [
       "\"Spice, licorice and herbal notes complement red-fruit aromas, while the palate offers plenty of structure and tannic grab. There's an avalanche of blackberry, cassis, fig, chocolate and herbal flavors to process, while the finish is rich and rewarding before breaking up in bits.\""
      ]
     },
     "execution_count": 11,
     "metadata": {},
     "output_type": "execute_result"
    }
   ],
   "source": [
    "wine.loc[15491,'description']"
   ]
  },
  {
   "cell_type": "code",
   "execution_count": 12,
   "metadata": {},
   "outputs": [
    {
     "data": {
      "text/plain": [
       "\"This superrich Zin has extracted, luxurious fruit. It's ripe in blackberry and cherry jam, milk chocolate, peppery spice and anise flavors, with an overripe note of Port. Drink now.\""
      ]
     },
     "execution_count": 12,
     "metadata": {},
     "output_type": "execute_result"
    }
   ],
   "source": [
    "wine.loc[45437,'description']"
   ]
  },
  {
   "cell_type": "code",
   "execution_count": 13,
   "metadata": {},
   "outputs": [
    {
     "data": {
      "text/plain": [
       "\"Full, forward and loaded with ripe strawberry and cherry flavors, this immediately likeable wine offers plenty of fruit and spice. It's almost chunky it's so big, with a lick of chocolate highlighting the finish.\""
      ]
     },
     "execution_count": 13,
     "metadata": {},
     "output_type": "execute_result"
    }
   ],
   "source": [
    "wine.loc[64740,'description']"
   ]
  },
  {
   "cell_type": "code",
   "execution_count": 14,
   "metadata": {},
   "outputs": [
    {
     "data": {
      "text/plain": [
       "\"Stainless steel fermentation has yielded a yeasty, beery wine. There's plenty of fruit, a bit too reminiscent of canned peaches, and a finish that seems constricted and short. Residual sugar is right around 2%.\""
      ]
     },
     "execution_count": 14,
     "metadata": {},
     "output_type": "execute_result"
    }
   ],
   "source": [
    "wine.loc[61945,'description']"
   ]
  },
  {
   "cell_type": "code",
   "execution_count": null,
   "metadata": {},
   "outputs": [],
   "source": []
  }
 ],
 "metadata": {
  "kernelspec": {
   "display_name": "Python 3",
   "language": "python",
   "name": "python3"
  },
  "language_info": {
   "codemirror_mode": {
    "name": "ipython",
    "version": 3
   },
   "file_extension": ".py",
   "mimetype": "text/x-python",
   "name": "python",
   "nbconvert_exporter": "python",
   "pygments_lexer": "ipython3",
   "version": "3.6.4"
  }
 },
 "nbformat": 4,
 "nbformat_minor": 2
}
