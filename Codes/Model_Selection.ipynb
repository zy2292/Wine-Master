{
 "cells": [
  {
   "cell_type": "code",
   "execution_count": 18,
   "metadata": {},
   "outputs": [
    {
     "name": "stderr",
     "output_type": "stream",
     "text": [
      "/anaconda3/lib/python3.6/site-packages/h5py/__init__.py:36: FutureWarning: Conversion of the second argument of issubdtype from `float` to `np.floating` is deprecated. In future, it will be treated as `np.float64 == np.dtype(float).type`.\n",
      "  from ._conv import register_converters as _register_converters\n",
      "/anaconda3/lib/python3.6/site-packages/requests/__init__.py:80: RequestsDependencyWarning: urllib3 (1.22) or chardet (2.3.0) doesn't match a supported version!\n",
      "  RequestsDependencyWarning)\n"
     ]
    }
   ],
   "source": [
    "import ocrfunction\n",
    "import numpy as np\n",
    "import pandas as pd\n",
    "import matplotlib.pyplot as plt\n",
    "import pytesseract\n",
    "import string\n",
    "from PIL import Image\n",
    "from os.path import isfile, join\n",
    "import cv2\n",
    "import json\n",
    "\n",
    "from sklearn.feature_extraction.text import TfidfVectorizer\n",
    "from sklearn.metrics.pairwise import linear_kernel, cosine_similarity\n",
    "import nltk.stem\n",
    "from nltk.tokenize import word_tokenize\n",
    "from datetime import datetime\n",
    "from nltk.util import ngrams\n",
    "from sklearn.feature_extraction.text import CountVectorizer"
   ]
  },
  {
   "cell_type": "markdown",
   "metadata": {},
   "source": [
    "## Data Preparation"
   ]
  },
  {
   "cell_type": "markdown",
   "metadata": {},
   "source": [
    "### Wine data"
   ]
  },
  {
   "cell_type": "code",
   "execution_count": 8,
   "metadata": {},
   "outputs": [
    {
     "data": {
      "text/html": [
       "<div>\n",
       "<style scoped>\n",
       "    .dataframe tbody tr th:only-of-type {\n",
       "        vertical-align: middle;\n",
       "    }\n",
       "\n",
       "    .dataframe tbody tr th {\n",
       "        vertical-align: top;\n",
       "    }\n",
       "\n",
       "    .dataframe thead th {\n",
       "        text-align: right;\n",
       "    }\n",
       "</style>\n",
       "<table border=\"1\" class=\"dataframe\">\n",
       "  <thead>\n",
       "    <tr style=\"text-align: right;\">\n",
       "      <th></th>\n",
       "      <th>index</th>\n",
       "      <th>country</th>\n",
       "      <th>province</th>\n",
       "      <th>region_1</th>\n",
       "      <th>designation</th>\n",
       "      <th>variety</th>\n",
       "      <th>winery</th>\n",
       "      <th>year</th>\n",
       "      <th>title</th>\n",
       "      <th>unique_name</th>\n",
       "      <th>description</th>\n",
       "      <th>points</th>\n",
       "      <th>price</th>\n",
       "    </tr>\n",
       "  </thead>\n",
       "  <tbody>\n",
       "    <tr>\n",
       "      <th>0</th>\n",
       "      <td>0.0</td>\n",
       "      <td>Italy</td>\n",
       "      <td>Sicily &amp; Sardinia</td>\n",
       "      <td>Etna</td>\n",
       "      <td>Vulkà Bianco</td>\n",
       "      <td>White Blend</td>\n",
       "      <td>Nicosia</td>\n",
       "      <td>2013.0</td>\n",
       "      <td>Nicosia 2013 Vulkà Bianco  (Etna)</td>\n",
       "      <td>Nicosia 2013 Vulkà Bianco  (Etna) White Blend</td>\n",
       "      <td>Aromas include tropical fruit, broom, brimston...</td>\n",
       "      <td>87.0</td>\n",
       "      <td>NaN</td>\n",
       "    </tr>\n",
       "    <tr>\n",
       "      <th>1</th>\n",
       "      <td>1.0</td>\n",
       "      <td>Portugal</td>\n",
       "      <td>Douro</td>\n",
       "      <td>NaN</td>\n",
       "      <td>Avidagos</td>\n",
       "      <td>Portuguese Red</td>\n",
       "      <td>Quinta dos Avidagos</td>\n",
       "      <td>2011.0</td>\n",
       "      <td>Quinta dos Avidagos 2011 Avidagos Red (Douro)</td>\n",
       "      <td>Quinta dos Avidagos 2011 Avidagos Red (Douro) ...</td>\n",
       "      <td>This is ripe and fruity, a wine that is smooth...</td>\n",
       "      <td>87.0</td>\n",
       "      <td>15.0</td>\n",
       "    </tr>\n",
       "    <tr>\n",
       "      <th>2</th>\n",
       "      <td>2.0</td>\n",
       "      <td>US</td>\n",
       "      <td>Oregon</td>\n",
       "      <td>Willamette Valley</td>\n",
       "      <td>NaN</td>\n",
       "      <td>Pinot Gris</td>\n",
       "      <td>Rainstorm</td>\n",
       "      <td>2013.0</td>\n",
       "      <td>Rainstorm 2013 Pinot Gris (Willamette Valley)</td>\n",
       "      <td>Rainstorm 2013 Pinot Gris (Willamette Valley) ...</td>\n",
       "      <td>Tart and snappy, the flavors of lime flesh and...</td>\n",
       "      <td>87.0</td>\n",
       "      <td>14.0</td>\n",
       "    </tr>\n",
       "    <tr>\n",
       "      <th>3</th>\n",
       "      <td>3.0</td>\n",
       "      <td>US</td>\n",
       "      <td>Michigan</td>\n",
       "      <td>Lake Michigan Shore</td>\n",
       "      <td>Reserve Late Harvest</td>\n",
       "      <td>Riesling</td>\n",
       "      <td>St. Julian</td>\n",
       "      <td>2013.0</td>\n",
       "      <td>St. Julian 2013 Reserve Late Harvest Riesling ...</td>\n",
       "      <td>St. Julian 2013 Reserve Late Harvest Riesling ...</td>\n",
       "      <td>Pineapple rind, lemon pith and orange blossom ...</td>\n",
       "      <td>87.0</td>\n",
       "      <td>13.0</td>\n",
       "    </tr>\n",
       "    <tr>\n",
       "      <th>4</th>\n",
       "      <td>4.0</td>\n",
       "      <td>US</td>\n",
       "      <td>Oregon</td>\n",
       "      <td>Willamette Valley</td>\n",
       "      <td>Vintner's Reserve Wild Child Block</td>\n",
       "      <td>Pinot Noir</td>\n",
       "      <td>Sweet Cheeks</td>\n",
       "      <td>2012.0</td>\n",
       "      <td>Sweet Cheeks 2012 Vintner's Reserve Wild Child...</td>\n",
       "      <td>Sweet Cheeks 2012 Vintner's Reserve Wild Child...</td>\n",
       "      <td>Much like the regular bottling from 2012, this...</td>\n",
       "      <td>87.0</td>\n",
       "      <td>65.0</td>\n",
       "    </tr>\n",
       "  </tbody>\n",
       "</table>\n",
       "</div>"
      ],
      "text/plain": [
       "   index   country           province             region_1  \\\n",
       "0    0.0     Italy  Sicily & Sardinia                 Etna   \n",
       "1    1.0  Portugal              Douro                  NaN   \n",
       "2    2.0        US             Oregon    Willamette Valley   \n",
       "3    3.0        US           Michigan  Lake Michigan Shore   \n",
       "4    4.0        US             Oregon    Willamette Valley   \n",
       "\n",
       "                          designation         variety               winery  \\\n",
       "0                        Vulkà Bianco     White Blend              Nicosia   \n",
       "1                            Avidagos  Portuguese Red  Quinta dos Avidagos   \n",
       "2                                 NaN      Pinot Gris            Rainstorm   \n",
       "3                Reserve Late Harvest        Riesling           St. Julian   \n",
       "4  Vintner's Reserve Wild Child Block      Pinot Noir         Sweet Cheeks   \n",
       "\n",
       "     year                                              title  \\\n",
       "0  2013.0                  Nicosia 2013 Vulkà Bianco  (Etna)   \n",
       "1  2011.0      Quinta dos Avidagos 2011 Avidagos Red (Douro)   \n",
       "2  2013.0      Rainstorm 2013 Pinot Gris (Willamette Valley)   \n",
       "3  2013.0  St. Julian 2013 Reserve Late Harvest Riesling ...   \n",
       "4  2012.0  Sweet Cheeks 2012 Vintner's Reserve Wild Child...   \n",
       "\n",
       "                                         unique_name  \\\n",
       "0      Nicosia 2013 Vulkà Bianco  (Etna) White Blend   \n",
       "1  Quinta dos Avidagos 2011 Avidagos Red (Douro) ...   \n",
       "2  Rainstorm 2013 Pinot Gris (Willamette Valley) ...   \n",
       "3  St. Julian 2013 Reserve Late Harvest Riesling ...   \n",
       "4  Sweet Cheeks 2012 Vintner's Reserve Wild Child...   \n",
       "\n",
       "                                         description  points  price  \n",
       "0  Aromas include tropical fruit, broom, brimston...    87.0    NaN  \n",
       "1  This is ripe and fruity, a wine that is smooth...    87.0   15.0  \n",
       "2  Tart and snappy, the flavors of lime flesh and...    87.0   14.0  \n",
       "3  Pineapple rind, lemon pith and orange blossom ...    87.0   13.0  \n",
       "4  Much like the regular bottling from 2012, this...    87.0   65.0  "
      ]
     },
     "execution_count": 8,
     "metadata": {},
     "output_type": "execute_result"
    }
   ],
   "source": [
    "wine = pd.read_csv('https://raw.githubusercontent.com/zy2292/Wine-Master/master/Data/wine_data_cleaned.csv')\n",
    "wine.head()"
   ]
  },
  {
   "cell_type": "code",
   "execution_count": 9,
   "metadata": {},
   "outputs": [],
   "source": [
    "def str_process(string):\n",
    "    string=string.replace('\\n','')\n",
    "    string=string.replace(' ', '')\n",
    "    string=''.join([*filter(str.isalnum, string)])\n",
    "    string=''.join(string)\n",
    "    string=string.upper()\n",
    "    return string"
   ]
  },
  {
   "cell_type": "code",
   "execution_count": 10,
   "metadata": {},
   "outputs": [],
   "source": [
    "wine['designation']=wine['designation'].apply(str).apply(str_process)\n",
    "wine['province']=wine['province'].apply(str).apply(str_process)\n",
    "wine['region_1']=wine['region_1'].apply(str).apply(str_process)\n",
    "wine['variety']=wine['variety'].apply(str).apply(str_process)\n",
    "wine['winery']=wine['winery'].apply(str).apply(str_process)\n",
    "wine['year']=wine['year'].fillna(0).apply(int).apply(str).apply(str_process)"
   ]
  },
  {
   "cell_type": "markdown",
   "metadata": {},
   "source": [
    "### True label"
   ]
  },
  {
   "cell_type": "code",
   "execution_count": 11,
   "metadata": {
    "scrolled": true
   },
   "outputs": [
    {
     "data": {
      "text/plain": [
       "0                               {42190, 16919}\n",
       "1    {73926, 8461, 29905, 62291, 16918, 30040}\n",
       "2                                      {41747}\n",
       "3                               {30024, 84417}\n",
       "4                                      {87400}\n",
       "Name: unique_name, dtype: object"
      ]
     },
     "execution_count": 11,
     "metadata": {},
     "output_type": "execute_result"
    }
   ],
   "source": [
    "labeldf = pd.read_csv('/Users/zhenli/training_label.csv')\n",
    "labeldf = labeldf.iloc[0:100,:]\n",
    "label = labeldf.iloc[:,1]\n",
    "label_set = label.apply(lambda x: set(list(map(int,x.split(',')))))\n",
    "label_set.head()"
   ]
  },
  {
   "cell_type": "markdown",
   "metadata": {},
   "source": [
    "### Boxes location"
   ]
  },
  {
   "cell_type": "code",
   "execution_count": null,
   "metadata": {},
   "outputs": [],
   "source": [
    "with open('/Users/zhenli/text-detection-ctpn-ocr/boxes.json') as f:\n",
    "    boxes = json.load(f)"
   ]
  },
  {
   "cell_type": "markdown",
   "metadata": {},
   "source": [
    "## Function preparation"
   ]
  },
  {
   "cell_type": "code",
   "execution_count": 24,
   "metadata": {},
   "outputs": [],
   "source": [
    "def text_ocr(boxes):\n",
    "    result=dict()\n",
    "    for i in list(range(len(boxes))):\n",
    "        num=i+1\n",
    "        img = cv2.imread('/Users/zhenli/wineImage/train_'+ str(num) +'.jpg',0)\n",
    "        res=''\n",
    "        for j in list(range(len(boxes[str(i+1)]))):\n",
    "            location=list(map(int,boxes[str(i+1)][str(j+1)].split(',')))\n",
    "            min_x,min_y,max_x,max_y=location[0],location[1],location[2],location[3]\n",
    "            image = img[min_y:max_y,min_x:max_x]\n",
    "            text = pytesseract.image_to_string(image, config = '--psm 3', lang = 'eng+fra+deu+ita+spa+por+afr')\n",
    "            res=res+text\n",
    "            # height=int((max_y-min_y)/3)\n",
    "            # bilateral = cv2.bilateralFilter(image, d=height, sigmaColor=height*2, sigmaSpace=height/2)\n",
    "            # edges = cv2.Canny(bilateral,100,200)\n",
    "            # text2 = pytesseract.image_to_string(edges, config = '--psm 3', lang = 'eng+fra+deu+ita+spa+por+afr'\n",
    "        result[i]=res\n",
    "    return result"
   ]
  },
  {
   "cell_type": "code",
   "execution_count": 12,
   "metadata": {},
   "outputs": [],
   "source": [
    "from py_stringmatching.tokenizer.qgram_tokenizer import QgramTokenizer\n",
    "from py_stringmatching.similarity_measure.tversky_index import TverskyIndex\n",
    "def get_tversky_index(proto, query, n=3, beta=0.5):\n",
    "    tversky = TverskyIndex(beta=beta)\n",
    "    qgram = QgramTokenizer(qval=n, padding=False)\n",
    "    inters = tversky.get_sim_score(qgram.tokenize(query), qgram.tokenize(proto))\n",
    "    return inters"
   ]
  },
  {
   "cell_type": "code",
   "execution_count": 14,
   "metadata": {},
   "outputs": [],
   "source": [
    "from multiprocessing import Pool\n",
    "from functools import partial\n",
    "def match_col(arg, query, n=3):\n",
    "    col, beta = arg\n",
    "    table = wine[col]\n",
    "    score = table.apply(lambda x: get_tversky_index(x, query, n=n, beta=beta))\n",
    "    return score\n",
    "\n",
    "def get_index(query, betas):\n",
    "    cols = ['designation', 'province','region_1','variety','winery','year']\n",
    "    betas = betas\n",
    "    args = zip(cols, betas)\n",
    "    \n",
    "    pool = Pool()\n",
    "    func = partial(match_col, query=query, n=3)\n",
    "    score = pool.map(func, args)\n",
    "    wine['scores'] = sum(score)\n",
    "    result = wine[wine['scores']==max(wine['scores'])]\n",
    "    if sum(result['scores'])==0:\n",
    "        res_index=[]\n",
    "    else:\n",
    "        if result.shape[0] > 8:\n",
    "            result = result.sample(8)\n",
    "        res_index=list(result.index)\n",
    "    pool.close()\n",
    "    pool.join()\n",
    "    return list(result.index)"
   ]
  },
  {
   "cell_type": "code",
   "execution_count": 15,
   "metadata": {},
   "outputs": [],
   "source": [
    "def get_match(x, y):\n",
    "    return int(len(x.intersection(y)) != 0)\n",
    "vec_match = np.vectorize(get_match)"
   ]
  },
  {
   "cell_type": "code",
   "execution_count": 16,
   "metadata": {},
   "outputs": [],
   "source": [
    "def select_matching(betas, text_str, label_set):\n",
    "    result = text_str[0].apply(lambda x: get_index(x,betas)).apply(set)\n",
    "    match = vec_match(result, label_set)\n",
    "    return sum(match)"
   ]
  },
  {
   "cell_type": "code",
   "execution_count": 22,
   "metadata": {},
   "outputs": [],
   "source": [
    "def get_weighted_index(query, weights):\n",
    "    cols = ['designation', 'province','region_1','variety','winery','year']\n",
    "    betas = [0.5, 0.5, 0.5, 0.5, 0.5, 0.5]\n",
    "    args = zip(cols, betas)\n",
    "    \n",
    "    pool = Pool()\n",
    "    func = partial(match_col, query=query, n=3)\n",
    "    score = pool.map(func, args)\n",
    "    wine['scores'] = np.average(score, axis=0, weights=weights)\n",
    "    result = wine[wine['scores']==max(wine['scores'])]\n",
    "    if sum(result['scores'])==0:\n",
    "        res_index=[]\n",
    "    else:\n",
    "        if result.shape[0] > 8:\n",
    "            result = result.sample(8)\n",
    "        res_index=list(result.index)\n",
    "    pool.close()\n",
    "    pool.join()\n",
    "    return res_index\n",
    "\n",
    "def select_weighted_matching(text_str, label_set, weights):\n",
    "    result = text_str[0].apply(lambda x: get_weighted_index(x,weights)).apply(set)\n",
    "    match = vec_match(result, label_set)\n",
    "    return sum(match)"
   ]
  },
  {
   "cell_type": "markdown",
   "metadata": {},
   "source": [
    "# Model 1: baseline ocr only"
   ]
  },
  {
   "cell_type": "code",
   "execution_count": 3,
   "metadata": {},
   "outputs": [],
   "source": [
    "text_unstructure={}\n",
    "for i in range(1,101):\n",
    "    Num = i\n",
    "    imageOriginal = Image.open('/Users/zhenli/wineImage/train_'+ str(Num) +'.jpg').convert(\"L\")\n",
    "    image = np.asarray(imageOriginal)\n",
    "\n",
    "    text = pytesseract.image_to_string(image, config = '--psm 3', lang = 'eng+fra+deu+ita+spa+por+afr')\n",
    "    text_unstructure[i] = text"
   ]
  },
  {
   "cell_type": "code",
   "execution_count": 7,
   "metadata": {},
   "outputs": [
    {
     "data": {
      "text/html": [
       "<div>\n",
       "<style scoped>\n",
       "    .dataframe tbody tr th:only-of-type {\n",
       "        vertical-align: middle;\n",
       "    }\n",
       "\n",
       "    .dataframe tbody tr th {\n",
       "        vertical-align: top;\n",
       "    }\n",
       "\n",
       "    .dataframe thead th {\n",
       "        text-align: right;\n",
       "    }\n",
       "</style>\n",
       "<table border=\"1\" class=\"dataframe\">\n",
       "  <thead>\n",
       "    <tr style=\"text-align: right;\">\n",
       "      <th></th>\n",
       "      <th>0</th>\n",
       "    </tr>\n",
       "  </thead>\n",
       "  <tbody>\n",
       "    <tr>\n",
       "      <th>1</th>\n",
       "      <td>M U M M N A PA\\n\\nBRUT PRESTIGE</td>\n",
       "    </tr>\n",
       "    <tr>\n",
       "      <th>2</th>\n",
       "      <td>DE TRADITIONN\\n\\nC\\n«Y‘ 54\\nxx“ &lt;6\\n\\nMUMM NAP...</td>\n",
       "    </tr>\n",
       "    <tr>\n",
       "      <th>3</th>\n",
       "      <td>A\\nI CHAMPAGNE Oh\\n\\nBRUT\\nMAISON FONDEE EN 1811</td>\n",
       "    </tr>\n",
       "    <tr>\n",
       "      <th>4</th>\n",
       "      <td>MUMM NAPA\\n\\nBRUT ROSE</td>\n",
       "    </tr>\n",
       "    <tr>\n",
       "      <th>5</th>\n",
       "      <td>JOSEPH PHELPS\\n\\nINSIGNIA\\n\\nNAPA VALLEY\\n\\nES...</td>\n",
       "    </tr>\n",
       "  </tbody>\n",
       "</table>\n",
       "</div>"
      ],
      "text/plain": [
       "                                                   0\n",
       "1                    M U M M N A PA\\n\\nBRUT PRESTIGE\n",
       "2  DE TRADITIONN\\n\\nC\\n«Y‘ 54\\nxx“ <6\\n\\nMUMM NAP...\n",
       "3   A\\nI CHAMPAGNE Oh\\n\\nBRUT\\nMAISON FONDEE EN 1811\n",
       "4                             MUMM NAPA\\n\\nBRUT ROSE\n",
       "5  JOSEPH PHELPS\\n\\nINSIGNIA\\n\\nNAPA VALLEY\\n\\nES..."
      ]
     },
     "execution_count": 7,
     "metadata": {},
     "output_type": "execute_result"
    }
   ],
   "source": [
    "text_str = pd.DataFrame(text_unstructure,index=[0]).T\n",
    "text_str.head()"
   ]
  },
  {
   "cell_type": "code",
   "execution_count": 17,
   "metadata": {},
   "outputs": [
    {
     "data": {
      "text/html": [
       "<div>\n",
       "<style scoped>\n",
       "    .dataframe tbody tr th:only-of-type {\n",
       "        vertical-align: middle;\n",
       "    }\n",
       "\n",
       "    .dataframe tbody tr th {\n",
       "        vertical-align: top;\n",
       "    }\n",
       "\n",
       "    .dataframe thead th {\n",
       "        text-align: right;\n",
       "    }\n",
       "</style>\n",
       "<table border=\"1\" class=\"dataframe\">\n",
       "  <thead>\n",
       "    <tr style=\"text-align: right;\">\n",
       "      <th></th>\n",
       "      <th>0</th>\n",
       "    </tr>\n",
       "  </thead>\n",
       "  <tbody>\n",
       "    <tr>\n",
       "      <th>1</th>\n",
       "      <td>MUMMNAPABRUTPRESTIGE</td>\n",
       "    </tr>\n",
       "    <tr>\n",
       "      <th>2</th>\n",
       "      <td>DETRADITIONNCY54XX6MUMMNAPABLANCDEBLANCS</td>\n",
       "    </tr>\n",
       "    <tr>\n",
       "      <th>3</th>\n",
       "      <td>AICHAMPAGNEOHBRUTMAISONFONDEEEN1811</td>\n",
       "    </tr>\n",
       "    <tr>\n",
       "      <th>4</th>\n",
       "      <td>MUMMNAPABRUTROSE</td>\n",
       "    </tr>\n",
       "    <tr>\n",
       "      <th>5</th>\n",
       "      <td>JOSEPHPHELPSINSIGNIANAPAVALLEYESTATEGROWNREDWI...</td>\n",
       "    </tr>\n",
       "  </tbody>\n",
       "</table>\n",
       "</div>"
      ],
      "text/plain": [
       "                                                   0\n",
       "1                               MUMMNAPABRUTPRESTIGE\n",
       "2           DETRADITIONNCY54XX6MUMMNAPABLANCDEBLANCS\n",
       "3                AICHAMPAGNEOHBRUTMAISONFONDEEEN1811\n",
       "4                                   MUMMNAPABRUTROSE\n",
       "5  JOSEPHPHELPSINSIGNIANAPAVALLEYESTATEGROWNREDWI..."
      ]
     },
     "execution_count": 17,
     "metadata": {},
     "output_type": "execute_result"
    }
   ],
   "source": [
    "text_str[0] = text_str[0].apply(str_process)\n",
    "text_str.head()"
   ]
  },
  {
   "cell_type": "code",
   "execution_count": 19,
   "metadata": {
    "scrolled": true
   },
   "outputs": [
    {
     "name": "stdout",
     "output_type": "stream",
     "text": [
      "2018-05-09 20:34:10.264884\n",
      "35\n",
      "2018-05-09 20:54:41.437248\n"
     ]
    }
   ],
   "source": [
    "print(str(datetime.now()))\n",
    "betas=[0.5,0.5,0.5,0.5,0.5,0.5]\n",
    "accuracy_model1=select_matching(betas,text_str,label_set)\n",
    "print(accuracy_model1)\n",
    "print(str(datetime.now()))"
   ]
  },
  {
   "cell_type": "markdown",
   "metadata": {},
   "source": [
    "# Model 2: CTPN text detection + OCR with image preprocessing (biliteral and canny edge detection)"
   ]
  },
  {
   "cell_type": "markdown",
   "metadata": {},
   "source": [
    "Modify **text_ocr** function"
   ]
  },
  {
   "cell_type": "code",
   "execution_count": 29,
   "metadata": {},
   "outputs": [],
   "source": [
    "def img_text_ocr(boxes,height_divide,canny_range):\n",
    "    result = dict()\n",
    "    for i in list(range(len(boxes))):\n",
    "        num = i+1\n",
    "        img = cv2.imread('/Users/zhenli/wineImage/train_'+ str(num) +'.jpg',0)\n",
    "        res = ''\n",
    "        for j in list(range(len(boxes[str(i+1)]))):\n",
    "            location=list(map(int,boxes[str(i+1)][str(j+1)].split(',')))\n",
    "            min_x,min_y,max_x,max_y=location[0],location[1],location[2],location[3]\n",
    "            image = img[min_y:max_y,min_x:max_x]\n",
    "            height = int((max_y-min_y)/height_divide)\n",
    "            bilateral = cv2.bilateralFilter(image, d=height, sigmaColor=height*2, sigmaSpace=height/2)\n",
    "            edges = cv2.Canny(bilateral,canny_range[0],canny_range[1])\n",
    "            text = pytesseract.image_to_string(edges, config = '--psm 3', lang = 'eng+fra+deu+ita+spa+por+afr')\n",
    "            res = res+text\n",
    "        result[i] = res\n",
    "    return result"
   ]
  },
  {
   "cell_type": "code",
   "execution_count": 30,
   "metadata": {},
   "outputs": [],
   "source": [
    "def select_ocr_matching(boxes,height_divide, canny_range,betas, label_set):\n",
    "    text = img_text_ocr(boxes,height_divide, canny_range)\n",
    "    text_str = pd.DataFrame(text,index=[0]).T\n",
    "    text_str[0] = text_str[0].apply(str_process)\n",
    "    result = text_str[0].apply(lambda x: get_index(x,betas)).apply(set)\n",
    "    match = vec_match(result, label_set)\n",
    "    return sum(match)"
   ]
  },
  {
   "cell_type": "code",
   "execution_count": 35,
   "metadata": {},
   "outputs": [
    {
     "name": "stdout",
     "output_type": "stream",
     "text": [
      "2018-05-09 22:23:35.180423\n",
      "8 0.5 100 accuracy2_1: 12\n",
      "2018-05-09 22:43:23.053058\n",
      "8 0.5 150 accuracy2_1: 12\n",
      "2018-05-09 23:02:42.836483\n",
      "8 0.5 200 accuracy2_1: 14\n"
     ]
    }
   ],
   "source": [
    "betas1=[0.5,0.5,0.5,0.5,0.5,0.5]\n",
    "for k in [100,150,200]:\n",
    "    print(str(datetime.now()))\n",
    "    accuracy2_1=select_ocr_matching(boxes=boxes,height_divide=8, canny_range=[0.5*k,k],betas=betas1,label_set=label_set)\n",
    "    print(str(8)+\" \"+str(0.5)+\" \"+str(k)+\" \"+'accuracy2_1:', accuracy2_1)"
   ]
  },
  {
   "cell_type": "code",
   "execution_count": 42,
   "metadata": {},
   "outputs": [
    {
     "name": "stdout",
     "output_type": "stream",
     "text": [
      "2018-05-10 01:00:05.939767\n",
      "15 0.5 100 accuracy2_2: 12\n",
      "2018-05-10 01:22:34.699573\n",
      "15 0.5 150 accuracy2_2: 13\n",
      "2018-05-10 01:41:24.227373\n",
      "15 0.5 200 accuracy2_2: 14\n"
     ]
    }
   ],
   "source": [
    "betas2=[0.5,0.5,0.8,0.5,0.5,0.9]\n",
    "for k in [100,150,200]:\n",
    "    print(str(datetime.now()))\n",
    "    accuracy2_2=select_ocr_matching(boxes=boxes,height_divide=8, canny_range=[0.5*k,k],betas=betas2,label_set=label_set)\n",
    "    print(str(15)+\" \"+str(0.5)+\" \"+str(k)+\" \"+'accuracy2_2:', accuracy2_2)"
   ]
  },
  {
   "cell_type": "markdown",
   "metadata": {},
   "source": [
    "# Model 3: CTPN text detection+ baseline OCR"
   ]
  },
  {
   "cell_type": "code",
   "execution_count": 49,
   "metadata": {},
   "outputs": [],
   "source": [
    "with open('/Users/zhenli/text-detection-ctpn-ocr/boxes.json') as f:\n",
    "    boxes = json.load(f)"
   ]
  },
  {
   "cell_type": "code",
   "execution_count": 50,
   "metadata": {},
   "outputs": [
    {
     "name": "stdout",
     "output_type": "stream",
     "text": [
      "2018-05-10 14:42:40.286934\n",
      "2018-05-10 14:45:16.969882\n"
     ]
    }
   ],
   "source": [
    "print(str(datetime.now()))\n",
    "text=text_ocr(boxes)\n",
    "print(str(datetime.now()))"
   ]
  },
  {
   "cell_type": "code",
   "execution_count": 51,
   "metadata": {},
   "outputs": [
    {
     "data": {
      "text/html": [
       "<div>\n",
       "<style scoped>\n",
       "    .dataframe tbody tr th:only-of-type {\n",
       "        vertical-align: middle;\n",
       "    }\n",
       "\n",
       "    .dataframe tbody tr th {\n",
       "        vertical-align: top;\n",
       "    }\n",
       "\n",
       "    .dataframe thead th {\n",
       "        text-align: right;\n",
       "    }\n",
       "</style>\n",
       "<table border=\"1\" class=\"dataframe\">\n",
       "  <thead>\n",
       "    <tr style=\"text-align: right;\">\n",
       "      <th></th>\n",
       "      <th>0</th>\n",
       "    </tr>\n",
       "  </thead>\n",
       "  <tbody>\n",
       "    <tr>\n",
       "      <th>0</th>\n",
       "      <td>MUMM NAPABRUT PRESTIGE</td>\n",
       "    </tr>\n",
       "    <tr>\n",
       "      <th>1</th>\n",
       "      <td>09“ TRADITION~\\nY\\\\n\\n4 4‘4\\n3’ ‘eMUMM NAPABLA...</td>\n",
       "    </tr>\n",
       "    <tr>\n",
       "      <th>2</th>\n",
       "      <td>AND, 1:91.PR\\n0\\nk DU\\nCT or EMF“;MAISON FONDE...</td>\n",
       "    </tr>\n",
       "    <tr>\n",
       "      <th>3</th>\n",
       "      <td>BRUT Ros:MUMM NAPAw “z</td>\n",
       "    </tr>\n",
       "    <tr>\n",
       "      <th>4</th>\n",
       "      <td>INSIGNIAJOSEPH PHELPSRED WINEIAPA VALLEYESTATE...</td>\n",
       "    </tr>\n",
       "  </tbody>\n",
       "</table>\n",
       "</div>"
      ],
      "text/plain": [
       "                                                   0\n",
       "0                             MUMM NAPABRUT PRESTIGE\n",
       "1  09“ TRADITION~\\nY\\\\n\\n4 4‘4\\n3’ ‘eMUMM NAPABLA...\n",
       "2  AND, 1:91.PR\\n0\\nk DU\\nCT or EMF“;MAISON FONDE...\n",
       "3                             BRUT Ros:MUMM NAPAw “z\n",
       "4  INSIGNIAJOSEPH PHELPSRED WINEIAPA VALLEYESTATE..."
      ]
     },
     "execution_count": 51,
     "metadata": {},
     "output_type": "execute_result"
    }
   ],
   "source": [
    "text_str = pd.DataFrame(text,index=[0]).T\n",
    "text_str.head()"
   ]
  },
  {
   "cell_type": "code",
   "execution_count": 52,
   "metadata": {},
   "outputs": [
    {
     "data": {
      "text/html": [
       "<div>\n",
       "<style scoped>\n",
       "    .dataframe tbody tr th:only-of-type {\n",
       "        vertical-align: middle;\n",
       "    }\n",
       "\n",
       "    .dataframe tbody tr th {\n",
       "        vertical-align: top;\n",
       "    }\n",
       "\n",
       "    .dataframe thead th {\n",
       "        text-align: right;\n",
       "    }\n",
       "</style>\n",
       "<table border=\"1\" class=\"dataframe\">\n",
       "  <thead>\n",
       "    <tr style=\"text-align: right;\">\n",
       "      <th></th>\n",
       "      <th>0</th>\n",
       "    </tr>\n",
       "  </thead>\n",
       "  <tbody>\n",
       "    <tr>\n",
       "      <th>0</th>\n",
       "      <td>MUMMNAPABRUTPRESTIGE</td>\n",
       "    </tr>\n",
       "    <tr>\n",
       "      <th>1</th>\n",
       "      <td>09TRADITIONY4443EMUMMNAPABLANCDEBLANCS</td>\n",
       "    </tr>\n",
       "    <tr>\n",
       "      <th>2</th>\n",
       "      <td>AND191PR0KDUCTOREMFMAISONFONDEEEN1811750MGRAND...</td>\n",
       "    </tr>\n",
       "    <tr>\n",
       "      <th>3</th>\n",
       "      <td>BRUTROSMUMMNAPAWZ</td>\n",
       "    </tr>\n",
       "    <tr>\n",
       "      <th>4</th>\n",
       "      <td>INSIGNIAJOSEPHPHELPSREDWINEIAPAVALLEYESTATEGROWN</td>\n",
       "    </tr>\n",
       "  </tbody>\n",
       "</table>\n",
       "</div>"
      ],
      "text/plain": [
       "                                                   0\n",
       "0                               MUMMNAPABRUTPRESTIGE\n",
       "1             09TRADITIONY4443EMUMMNAPABLANCDEBLANCS\n",
       "2  AND191PR0KDUCTOREMFMAISONFONDEEEN1811750MGRAND...\n",
       "3                                  BRUTROSMUMMNAPAWZ\n",
       "4   INSIGNIAJOSEPHPHELPSREDWINEIAPAVALLEYESTATEGROWN"
      ]
     },
     "execution_count": 52,
     "metadata": {},
     "output_type": "execute_result"
    }
   ],
   "source": [
    "text_str[0] = text_str[0].apply(str_process)\n",
    "text_str.head()"
   ]
  },
  {
   "cell_type": "code",
   "execution_count": 53,
   "metadata": {},
   "outputs": [
    {
     "name": "stdout",
     "output_type": "stream",
     "text": [
      "2018-05-10 14:45:43.752027\n",
      "Accuracy: 38\n",
      "2018-05-10 15:01:56.556376\n"
     ]
    }
   ],
   "source": [
    "print(str(datetime.now()))\n",
    "betas=[0.5,0.5,0.5,0.5,0.5,0.5]\n",
    "accuracy_model3=select_matching(betas,text_str,label_set)\n",
    "print(\"Accuracy:\", accuracy_model3)\n",
    "print(str(datetime.now()))"
   ]
  },
  {
   "cell_type": "markdown",
   "metadata": {},
   "source": [
    "# Model 4: CTPN text detection+ baseline OCR (4 gram)"
   ]
  },
  {
   "cell_type": "markdown",
   "metadata": {},
   "source": [
    "Modify **get_index** function"
   ]
  },
  {
   "cell_type": "code",
   "execution_count": 43,
   "metadata": {},
   "outputs": [],
   "source": [
    "def get_index_4g(query, betas):\n",
    "    cols = ['designation', 'province','region_1','variety','winery','year']\n",
    "    betas = betas\n",
    "    args = zip(cols, betas)\n",
    "    \n",
    "    pool = Pool()\n",
    "    func = partial(match_col, query=query, n=4)\n",
    "    score = pool.map(func, args)\n",
    "    wine['scores'] = sum(score)\n",
    "    result = wine[wine['scores']==max(wine['scores'])]\n",
    "    if sum(result['scores'])==0:\n",
    "        res_index=[]\n",
    "    else:\n",
    "        if result.shape[0] > 8:\n",
    "            result = result.sample(8)\n",
    "        res_index=list(result.index)\n",
    "    pool.close()\n",
    "    pool.join()\n",
    "    return list(result.index)"
   ]
  },
  {
   "cell_type": "code",
   "execution_count": 44,
   "metadata": {},
   "outputs": [],
   "source": [
    "def select_matching_4g(betas, text_str, label_set):\n",
    "    result = text_str[0].apply(lambda x: get_index_4g(x,betas)).apply(set)\n",
    "    match = vec_match(result, label_set)\n",
    "    return sum(match)"
   ]
  },
  {
   "cell_type": "code",
   "execution_count": null,
   "metadata": {},
   "outputs": [],
   "source": [
    "print(str(datetime.now()))\n",
    "for year in [1, 1.6]:\n",
    "    for region in [0.7, 1,1.3]:\n",
    "        accuracy = select_weighted_matching(text_str, label_set, \n",
    "                                            weights=[1, (3-(region+year)), region, 1, 1, year])\n",
    "        print('For year=' +str(year)+ ', region=' +str(region)+ ', accuracy:', accuracy)\n",
    "        print(str(datetime.now()))"
   ]
  },
  {
   "cell_type": "code",
   "execution_count": null,
   "metadata": {},
   "outputs": [],
   "source": [
    "print(str(datetime.now()))\n",
    "betas=[0.5,0.5,0.5,0.5,0.5,0.5]\n",
    "accuracy_model4=select_matching_4g(betas,text_str,label_set)\n",
    "print(\"Accuracy:\", accuracy_model4)\n",
    "print(str(datetime.now()))"
   ]
  },
  {
   "cell_type": "markdown",
   "metadata": {},
   "source": [
    "# Model 5: baseline OCR+ weighted score"
   ]
  },
  {
   "cell_type": "code",
   "execution_count": 36,
   "metadata": {},
   "outputs": [],
   "source": [
    "text_unstructure={}\n",
    "for i in range(1,101):\n",
    "    Num = i\n",
    "    imageOriginal = Image.open('/Users/zhenli/wineImage/train_'+ str(Num) +'.jpg').convert(\"L\")\n",
    "    image = np.asarray(imageOriginal)\n",
    "\n",
    "    text = pytesseract.image_to_string(image, config = '--psm 3', lang = 'eng+fra+deu+ita+spa+por+afr')\n",
    "    text_unstructure[i] = text"
   ]
  },
  {
   "cell_type": "code",
   "execution_count": 37,
   "metadata": {
    "scrolled": true
   },
   "outputs": [
    {
     "data": {
      "text/html": [
       "<div>\n",
       "<style scoped>\n",
       "    .dataframe tbody tr th:only-of-type {\n",
       "        vertical-align: middle;\n",
       "    }\n",
       "\n",
       "    .dataframe tbody tr th {\n",
       "        vertical-align: top;\n",
       "    }\n",
       "\n",
       "    .dataframe thead th {\n",
       "        text-align: right;\n",
       "    }\n",
       "</style>\n",
       "<table border=\"1\" class=\"dataframe\">\n",
       "  <thead>\n",
       "    <tr style=\"text-align: right;\">\n",
       "      <th></th>\n",
       "      <th>0</th>\n",
       "    </tr>\n",
       "  </thead>\n",
       "  <tbody>\n",
       "    <tr>\n",
       "      <th>1</th>\n",
       "      <td>M U M M N A PA\\n\\nBRUT PRESTIGE</td>\n",
       "    </tr>\n",
       "    <tr>\n",
       "      <th>2</th>\n",
       "      <td>DE TRADITIONN\\n\\nC\\n«Y‘ 54\\nxx“ &lt;6\\n\\nMUMM NAP...</td>\n",
       "    </tr>\n",
       "    <tr>\n",
       "      <th>3</th>\n",
       "      <td>A\\nI CHAMPAGNE Oh\\n\\nBRUT\\nMAISON FONDEE EN 1811</td>\n",
       "    </tr>\n",
       "    <tr>\n",
       "      <th>4</th>\n",
       "      <td>MUMM NAPA\\n\\nBRUT ROSE</td>\n",
       "    </tr>\n",
       "    <tr>\n",
       "      <th>5</th>\n",
       "      <td>JOSEPH PHELPS\\n\\nINSIGNIA\\n\\nNAPA VALLEY\\n\\nES...</td>\n",
       "    </tr>\n",
       "  </tbody>\n",
       "</table>\n",
       "</div>"
      ],
      "text/plain": [
       "                                                   0\n",
       "1                    M U M M N A PA\\n\\nBRUT PRESTIGE\n",
       "2  DE TRADITIONN\\n\\nC\\n«Y‘ 54\\nxx“ <6\\n\\nMUMM NAP...\n",
       "3   A\\nI CHAMPAGNE Oh\\n\\nBRUT\\nMAISON FONDEE EN 1811\n",
       "4                             MUMM NAPA\\n\\nBRUT ROSE\n",
       "5  JOSEPH PHELPS\\n\\nINSIGNIA\\n\\nNAPA VALLEY\\n\\nES..."
      ]
     },
     "execution_count": 37,
     "metadata": {},
     "output_type": "execute_result"
    }
   ],
   "source": [
    "text_str = pd.DataFrame(text_unstructure,index=[0]).T\n",
    "text_str.head()"
   ]
  },
  {
   "cell_type": "code",
   "execution_count": 38,
   "metadata": {},
   "outputs": [],
   "source": [
    "text_str.to_csv(\"text_str.csv\")"
   ]
  },
  {
   "cell_type": "code",
   "execution_count": null,
   "metadata": {},
   "outputs": [],
   "source": [
    "text_str[0] = text_str[0].apply(str_process)\n",
    "text_str.head()"
   ]
  },
  {
   "cell_type": "code",
   "execution_count": null,
   "metadata": {},
   "outputs": [],
   "source": [
    "print(str(datetime.now()))\n",
    "for year in [1, 1.6]:\n",
    "    for region in [0.7, 1,1.3]:\n",
    "        accuracy = select_weighted_matching(text_str, label_set, \n",
    "                                            weights=[1, (3-(region+year)), region, 1, 1, year])\n",
    "        print('For year=' +str(year)+ ', region=' +str(region)+ ', accuracy:', accuracy)\n",
    "        print(str(datetime.now()))"
   ]
  },
  {
   "cell_type": "markdown",
   "metadata": {},
   "source": [
    "# Model 6: CTPN text detection+ baseline OCR+ weighted score"
   ]
  },
  {
   "cell_type": "code",
   "execution_count": null,
   "metadata": {},
   "outputs": [],
   "source": []
  },
  {
   "cell_type": "code",
   "execution_count": null,
   "metadata": {},
   "outputs": [],
   "source": []
  }
 ],
 "metadata": {
  "kernelspec": {
   "display_name": "Python 3",
   "language": "python",
   "name": "python3"
  },
  "language_info": {
   "codemirror_mode": {
    "name": "ipython",
    "version": 3
   },
   "file_extension": ".py",
   "mimetype": "text/x-python",
   "name": "python",
   "nbconvert_exporter": "python",
   "pygments_lexer": "ipython3",
   "version": "3.6.4"
  }
 },
 "nbformat": 4,
 "nbformat_minor": 2
}
