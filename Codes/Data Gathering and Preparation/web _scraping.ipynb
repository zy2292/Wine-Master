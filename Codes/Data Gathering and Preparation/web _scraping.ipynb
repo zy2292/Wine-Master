{
 "cells": [
  {
   "cell_type": "code",
   "execution_count": 1,
   "metadata": {},
   "outputs": [],
   "source": [
    "import requests\n",
    "from bs4 import BeautifulSoup\n",
    "import os\n",
    "import re"
   ]
  },
  {
   "cell_type": "code",
   "execution_count": 4,
   "metadata": {},
   "outputs": [],
   "source": [
    "path_name = \"../Data/Image\"\n",
    "\n",
    "for i in range(0,20):\n",
    "    if i == 1:\n",
    "        r = requests.get(\"https://www.wine.com/list/wine/california/7155-106870\")\n",
    "    else:\n",
    "        r = requests.get(\"https://www.wine.com/list/wine/california/7155-106870/\" + str(i))\n",
    "        \n",
    "    data = r.text\n",
    "    soup = BeautifulSoup(data, \"lxml\")\n",
    "    \n",
    "    for link in soup.find_all('img'):\n",
    "        image = link.get(\"src\")\n",
    "        image = \"https://www.wine.com\" + image\n",
    "        image = re.sub('l.jpg', 'h.jpg', image)\n",
    "        image_name = os.path.split(image)[1]\n",
    "        \n",
    "        if 'h.jpg' in image: \n",
    "            r2 = requests.get(image)\n",
    "            with open(os.path.join(\"../Data/Image\", image_name), \"wb\") as f:\n",
    "                f.write(r2.content)"
   ]
  },
  {
   "cell_type": "code",
   "execution_count": null,
   "metadata": {},
   "outputs": [],
   "source": []
  }
 ],
 "metadata": {
  "kernelspec": {
   "display_name": "Python 3",
   "language": "python",
   "name": "python3"
  },
  "language_info": {
   "codemirror_mode": {
    "name": "ipython",
    "version": 3
   },
   "file_extension": ".py",
   "mimetype": "text/x-python",
   "name": "python",
   "nbconvert_exporter": "python",
   "pygments_lexer": "ipython3",
   "version": "3.6.4"
  },
  "widgets": {
   "state": {},
   "version": "1.1.2"
  }
 },
 "nbformat": 4,
 "nbformat_minor": 2
}
